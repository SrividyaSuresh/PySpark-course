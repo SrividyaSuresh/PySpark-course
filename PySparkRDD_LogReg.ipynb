{
 "cells": [
  {
   "cell_type": "markdown",
   "metadata": {
    "application/vnd.databricks.v1+cell": {
     "cellMetadata": {},
     "inputWidgets": {},
     "nuid": "6de2628c-1b31-4cf8-bfb7-e7748f5034a1",
     "showTitle": false,
     "title": ""
    }
   },
   "source": [
    "# PySpark RDDs "
   ]
  },
  {
   "cell_type": "markdown",
   "metadata": {
    "application/vnd.databricks.v1+cell": {
     "cellMetadata": {},
     "inputWidgets": {},
     "nuid": "8aabc90f-b23f-4818-ac48-80cbfb4affec",
     "showTitle": false,
     "title": ""
    }
   },
   "source": [
    "On Databricks, on creating a cluster, the SparkSession is created internally. SparkConf, SparkContext or SQLContext, don't have to be called explicitly as they are encapsulated inside SparkSession, accessible through a variabled called spark. \n"
   ]
  },
  {
   "cell_type": "code",
   "execution_count": null,
   "metadata": {
    "application/vnd.databricks.v1+cell": {
     "cellMetadata": {
      "byteLimit": 2048000,
      "rowLimit": 10000
     },
     "inputWidgets": {},
     "nuid": "f9b1803c-afe7-47ef-9d7e-a02d6e099b72",
     "showTitle": false,
     "title": ""
    }
   },
   "outputs": [],
   "source": [
    "spark"
   ]
  },
  {
   "cell_type": "markdown",
   "metadata": {
    "application/vnd.databricks.v1+cell": {
     "cellMetadata": {},
     "inputWidgets": {},
     "nuid": "13c51502-943e-4d28-bd6d-9d993d15130e",
     "showTitle": false,
     "title": ""
    }
   },
   "source": [
    "If this is run through Jupyter notebook or as python wheel file, it needs to be initialised, conventionally like this. Here on databricks, this is not required. "
   ]
  },
  {
   "cell_type": "code",
   "execution_count": null,
   "metadata": {
    "application/vnd.databricks.v1+cell": {
     "cellMetadata": {
      "byteLimit": 2048000,
      "rowLimit": 10000
     },
     "inputWidgets": {},
     "nuid": "8d655b66-9942-4bba-9c4e-73ccab26163b",
     "showTitle": false,
     "title": ""
    }
   },
   "outputs": [],
   "source": [
    "from pyspark.sql import SparkSession\n",
    "spark = SparkSession.builder.appName('Intro').getOrCreate() # app name can be changed, ofc.  \n"
   ]
  },
  {
   "cell_type": "markdown",
   "metadata": {
    "application/vnd.databricks.v1+cell": {
     "cellMetadata": {},
     "inputWidgets": {},
     "nuid": "23ce507f-dfa9-4b6d-870b-57a9477ff528",
     "showTitle": false,
     "title": ""
    }
   },
   "source": [
    "## File handling"
   ]
  },
  {
   "cell_type": "markdown",
   "metadata": {
    "application/vnd.databricks.v1+cell": {
     "cellMetadata": {},
     "inputWidgets": {},
     "nuid": "91ba0a44-d1a1-46d0-a3d8-4a1ab27f1986",
     "showTitle": false,
     "title": ""
    }
   },
   "source": [
    "### Json"
   ]
  },
  {
   "cell_type": "code",
   "execution_count": null,
   "metadata": {
    "application/vnd.databricks.v1+cell": {
     "cellMetadata": {
      "byteLimit": 2048000,
      "rowLimit": 10000
     },
     "inputWidgets": {},
     "nuid": "10daeb3e-a928-438f-bac4-27e39d272d35",
     "showTitle": false,
     "title": ""
    }
   },
   "outputs": [],
   "source": [
    "df = spark.read.json(\"/FileStore/tables/oscar.json\",multiLine=True)"
   ]
  },
  {
   "cell_type": "code",
   "execution_count": null,
   "metadata": {
    "application/vnd.databricks.v1+cell": {
     "cellMetadata": {
      "byteLimit": 2048000,
      "rowLimit": 10000
     },
     "inputWidgets": {},
     "nuid": "7dd6b3d4-570c-4c17-bf55-f15730149843",
     "showTitle": false,
     "title": ""
    }
   },
   "outputs": [
    {
     "name": "stdout",
     "output_type": "stream",
     "text": [
      "root\n",
      " |-- awards: array (nullable = true)\n",
      " |    |-- element: string (containsNull = true)\n",
      " |-- director: string (nullable = true)\n",
      " |-- genre: string (nullable = true)\n",
      " |-- title: string (nullable = true)\n",
      " |-- year: long (nullable = true)\n",
      "\n"
     ]
    }
   ],
   "source": [
    "df.printSchema()"
   ]
  },
  {
   "cell_type": "code",
   "execution_count": null,
   "metadata": {
    "application/vnd.databricks.v1+cell": {
     "cellMetadata": {
      "byteLimit": 2048000,
      "rowLimit": 10000
     },
     "inputWidgets": {},
     "nuid": "4d39f578-9b96-4657-a104-e8c36af8d54d",
     "showTitle": false,
     "title": ""
    }
   },
   "outputs": [
    {
     "name": "stdout",
     "output_type": "stream",
     "text": [
      "+--------------------+--------------------+--------------+------------------+----+\n",
      "|              awards|            director|         genre|             title|year|\n",
      "+--------------------+--------------------+--------------+------------------+----+\n",
      "|[Best Picture, Be...|        Bong Joon-ho|Drama/Thriller|          Parasite|2019|\n",
      "|[Best Picture, Be...|  Guillermo del Toro| Drama/Fantasy|The Shape of Water|2017|\n",
      "|[Best Picture, Be...|       Barry Jenkins|         Drama|         Moonlight|2016|\n",
      "|[Best Picture, Be...|        Tom McCarthy|         Drama|         Spotlight|2015|\n",
      "|[Best Picture, Be...|Alejandro G. Iñár...|  Drama/Comedy|           Birdman|2014|\n",
      "+--------------------+--------------------+--------------+------------------+----+\n",
      "\n"
     ]
    }
   ],
   "source": [
    "df.show()"
   ]
  },
  {
   "cell_type": "code",
   "execution_count": null,
   "metadata": {
    "application/vnd.databricks.v1+cell": {
     "cellMetadata": {
      "byteLimit": 2048000,
      "rowLimit": 10000
     },
     "inputWidgets": {},
     "nuid": "04bfca82-4f09-48fe-b42e-fe40af1dd90b",
     "showTitle": false,
     "title": ""
    }
   },
   "outputs": [
    {
     "name": "stdout",
     "output_type": "stream",
     "text": [
      "Out[13]: ['awards', 'director', 'genre', 'title', 'year']"
     ]
    }
   ],
   "source": [
    "df.columns"
   ]
  },
  {
   "cell_type": "code",
   "execution_count": null,
   "metadata": {
    "application/vnd.databricks.v1+cell": {
     "cellMetadata": {
      "byteLimit": 2048000,
      "rowLimit": 10000
     },
     "inputWidgets": {},
     "nuid": "bd963a73-7748-4ecb-9d35-d0e75f18838d",
     "showTitle": false,
     "title": ""
    }
   },
   "outputs": [
    {
     "name": "stdout",
     "output_type": "stream",
     "text": [
      "+-------+--------------------+--------------+------------------+------------------+\n",
      "|summary|            director|         genre|             title|              year|\n",
      "+-------+--------------------+--------------+------------------+------------------+\n",
      "|  count|                   5|             5|                 5|                 5|\n",
      "|   mean|                null|          null|              null|            2016.2|\n",
      "| stddev|                null|          null|              null|1.9235384061671172|\n",
      "|    min|Alejandro G. Iñár...|         Drama|           Birdman|              2014|\n",
      "|    max|        Tom McCarthy|Drama/Thriller|The Shape of Water|              2019|\n",
      "+-------+--------------------+--------------+------------------+------------------+\n",
      "\n"
     ]
    }
   ],
   "source": [
    "df.describe().show()"
   ]
  },
  {
   "cell_type": "markdown",
   "metadata": {
    "application/vnd.databricks.v1+cell": {
     "cellMetadata": {},
     "inputWidgets": {},
     "nuid": "f5207108-0446-4a07-a74f-2fc20472d263",
     "showTitle": false,
     "title": ""
    }
   },
   "source": [
    "### Understanding Spark Schemas"
   ]
  },
  {
   "cell_type": "code",
   "execution_count": null,
   "metadata": {
    "application/vnd.databricks.v1+cell": {
     "cellMetadata": {
      "byteLimit": 2048000,
      "rowLimit": 10000
     },
     "inputWidgets": {},
     "nuid": "9da47d22-28dc-475c-aa58-14ec3d139cd6",
     "showTitle": false,
     "title": ""
    }
   },
   "outputs": [],
   "source": [
    "from pyspark.sql.types import StructField, StructType, StringType, IntegerType, ArrayType"
   ]
  },
  {
   "cell_type": "code",
   "execution_count": null,
   "metadata": {
    "application/vnd.databricks.v1+cell": {
     "cellMetadata": {
      "byteLimit": 2048000,
      "rowLimit": 10000
     },
     "inputWidgets": {},
     "nuid": "4748d5d5-bd90-4da6-85d2-3310081de2fb",
     "showTitle": false,
     "title": ""
    }
   },
   "outputs": [],
   "source": [
    "df_schema = StructType([\n",
    "    StructField(\"title\", StringType(), True),\n",
    "    StructField(\"genre\", StringType(), True),\n",
    "    StructField(\"director\", StringType(), True),\n",
    "    StructField(\"year\", IntegerType(), True),\n",
    "    StructField(\"awards\", ArrayType(StringType(), True), True)\n",
    "])"
   ]
  },
  {
   "cell_type": "code",
   "execution_count": null,
   "metadata": {
    "application/vnd.databricks.v1+cell": {
     "cellMetadata": {
      "byteLimit": 2048000,
      "rowLimit": 10000
     },
     "inputWidgets": {},
     "nuid": "43460402-8a3a-4b3c-a8b1-4c629f272af1",
     "showTitle": false,
     "title": ""
    }
   },
   "outputs": [
    {
     "name": "stdout",
     "output_type": "stream",
     "text": [
      "root\n",
      " |-- title: string (nullable = true)\n",
      " |-- genre: string (nullable = true)\n",
      " |-- director: string (nullable = true)\n",
      " |-- year: integer (nullable = true)\n",
      " |-- awards: array (nullable = true)\n",
      " |    |-- element: string (containsNull = true)\n",
      "\n"
     ]
    }
   ],
   "source": [
    "df = spark.read.json(\"/FileStore/tables/oscar.json\",multiLine=True, schema=df_schema)\n",
    "df.printSchema()"
   ]
  },
  {
   "cell_type": "markdown",
   "metadata": {
    "application/vnd.databricks.v1+cell": {
     "cellMetadata": {},
     "inputWidgets": {},
     "nuid": "2ebe83c7-fd3c-4074-89e2-32852c53c2de",
     "showTitle": false,
     "title": ""
    }
   },
   "source": [
    "### CSV File handling"
   ]
  },
  {
   "cell_type": "code",
   "execution_count": null,
   "metadata": {
    "application/vnd.databricks.v1+cell": {
     "cellMetadata": {
      "byteLimit": 2048000,
      "rowLimit": 10000
     },
     "inputWidgets": {},
     "nuid": "93874a5a-8041-47d1-9ff0-9365c5373eb6",
     "showTitle": false,
     "title": ""
    }
   },
   "outputs": [],
   "source": [
    "df = spark.read.csv(\"/FileStore/tables/titanic.csv\", inferSchema=True,  header=True)\n"
   ]
  },
  {
   "cell_type": "code",
   "execution_count": null,
   "metadata": {
    "application/vnd.databricks.v1+cell": {
     "cellMetadata": {
      "byteLimit": 2048000,
      "rowLimit": 10000
     },
     "inputWidgets": {},
     "nuid": "d2a3f007-6782-4d86-922a-b7d330528234",
     "showTitle": false,
     "title": ""
    }
   },
   "outputs": [
    {
     "name": "stdout",
     "output_type": "stream",
     "text": [
      "root\n",
      " |-- PassengerId: integer (nullable = true)\n",
      " |-- Survived: integer (nullable = true)\n",
      " |-- Pclass: integer (nullable = true)\n",
      " |-- Name: string (nullable = true)\n",
      " |-- Sex: string (nullable = true)\n",
      " |-- Age: double (nullable = true)\n",
      " |-- SibSp: integer (nullable = true)\n",
      " |-- Parch: integer (nullable = true)\n",
      " |-- Ticket: string (nullable = true)\n",
      " |-- Fare: double (nullable = true)\n",
      " |-- Cabin: string (nullable = true)\n",
      " |-- Embarked: string (nullable = true)\n",
      "\n"
     ]
    }
   ],
   "source": [
    "df.printSchema()"
   ]
  },
  {
   "cell_type": "markdown",
   "metadata": {
    "application/vnd.databricks.v1+cell": {
     "cellMetadata": {},
     "inputWidgets": {},
     "nuid": "2a51966d-775e-4c60-b069-4335b265e51a",
     "showTitle": false,
     "title": ""
    }
   },
   "source": [
    "## Exploratory analysis on RDD"
   ]
  },
  {
   "cell_type": "code",
   "execution_count": null,
   "metadata": {
    "application/vnd.databricks.v1+cell": {
     "cellMetadata": {
      "byteLimit": 2048000,
      "rowLimit": 10000
     },
     "inputWidgets": {},
     "nuid": "357dddb4-fc60-4dfe-a427-577f30b31b9f",
     "showTitle": false,
     "title": ""
    }
   },
   "outputs": [
    {
     "name": "stdout",
     "output_type": "stream",
     "text": [
      "Out[8]: [Row(PassengerId=1, Survived=0, Pclass=3, Name='Braund, Mr. Owen Harris', Sex='male', Age=22.0, SibSp=1, Parch=0, Ticket='A/5 21171', Fare=7.25, Cabin=None, Embarked='S'),\n",
      " Row(PassengerId=2, Survived=1, Pclass=1, Name='Cumings, Mrs. John Bradley (Florence Briggs Thayer)', Sex='female', Age=38.0, SibSp=1, Parch=0, Ticket='PC 17599', Fare=71.2833, Cabin='C85', Embarked='C'),\n",
      " Row(PassengerId=3, Survived=1, Pclass=3, Name='Heikkinen, Miss. Laina', Sex='female', Age=26.0, SibSp=0, Parch=0, Ticket='STON/O2. 3101282', Fare=7.925, Cabin=None, Embarked='S'),\n",
      " Row(PassengerId=4, Survived=1, Pclass=1, Name='Futrelle, Mrs. Jacques Heath (Lily May Peel)', Sex='female', Age=35.0, SibSp=1, Parch=0, Ticket='113803', Fare=53.1, Cabin='C123', Embarked='S'),\n",
      " Row(PassengerId=5, Survived=0, Pclass=3, Name='Allen, Mr. William Henry', Sex='male', Age=35.0, SibSp=0, Parch=0, Ticket='373450', Fare=8.05, Cabin=None, Embarked='S')]"
     ]
    }
   ],
   "source": [
    "df.head(5)"
   ]
  },
  {
   "cell_type": "code",
   "execution_count": null,
   "metadata": {
    "application/vnd.databricks.v1+cell": {
     "cellMetadata": {
      "byteLimit": 2048000,
      "rowLimit": 10000
     },
     "inputWidgets": {},
     "nuid": "225f3b83-5b60-4d5d-bcfa-130540a2af7d",
     "showTitle": false,
     "title": ""
    }
   },
   "outputs": [
    {
     "name": "stdout",
     "output_type": "stream",
     "text": [
      "(891, 13)\n"
     ]
    }
   ],
   "source": [
    "print((df.count(), len(df.columns)))"
   ]
  },
  {
   "cell_type": "code",
   "execution_count": null,
   "metadata": {
    "application/vnd.databricks.v1+cell": {
     "cellMetadata": {
      "byteLimit": 2048000,
      "rowLimit": 10000
     },
     "inputWidgets": {},
     "nuid": "3b1d69b0-075c-4953-a6c0-3bbf453b9ebb",
     "showTitle": false,
     "title": ""
    }
   },
   "outputs": [
    {
     "name": "stdout",
     "output_type": "stream",
     "text": [
      "+----+\n",
      "| Age|\n",
      "+----+\n",
      "|22.0|\n",
      "|38.0|\n",
      "|26.0|\n",
      "+----+\n",
      "only showing top 3 rows\n",
      "\n"
     ]
    }
   ],
   "source": [
    "df.select(\"Age\").show(3)"
   ]
  },
  {
   "cell_type": "code",
   "execution_count": null,
   "metadata": {
    "application/vnd.databricks.v1+cell": {
     "cellMetadata": {
      "byteLimit": 2048000,
      "rowLimit": 10000
     },
     "inputWidgets": {},
     "nuid": "01360fe5-aa72-416d-8758-94ba77bbfbee",
     "showTitle": false,
     "title": ""
    }
   },
   "outputs": [],
   "source": [
    "df.createOrReplaceTempView('titanicdb')"
   ]
  },
  {
   "cell_type": "code",
   "execution_count": null,
   "metadata": {
    "application/vnd.databricks.v1+cell": {
     "cellMetadata": {
      "byteLimit": 2048000,
      "rowLimit": 10000
     },
     "inputWidgets": {},
     "nuid": "f70412d1-57e4-436b-bd10-c2570de08ef5",
     "showTitle": false,
     "title": ""
    }
   },
   "outputs": [
    {
     "name": "stdout",
     "output_type": "stream",
     "text": [
      "+-----------+--------+------+--------------------+------+----+-----+-----+----------------+-------+-----+--------+\n",
      "|PassengerId|Survived|Pclass|                Name|   Sex| Age|SibSp|Parch|          Ticket|   Fare|Cabin|Embarked|\n",
      "+-----------+--------+------+--------------------+------+----+-----+-----+----------------+-------+-----+--------+\n",
      "|          1|       0|     3|Braund, Mr. Owen ...|  male|22.0|    1|    0|       A/5 21171|   7.25| null|       S|\n",
      "|          2|       1|     1|Cumings, Mrs. Joh...|female|38.0|    1|    0|        PC 17599|71.2833|  C85|       C|\n",
      "|          3|       1|     3|Heikkinen, Miss. ...|female|26.0|    0|    0|STON/O2. 3101282|  7.925| null|       S|\n",
      "|          4|       1|     1|Futrelle, Mrs. Ja...|female|35.0|    1|    0|          113803|   53.1| C123|       S|\n",
      "|          5|       0|     3|Allen, Mr. Willia...|  male|35.0|    0|    0|          373450|   8.05| null|       S|\n",
      "+-----------+--------+------+--------------------+------+----+-----+-----+----------------+-------+-----+--------+\n",
      "\n"
     ]
    }
   ],
   "source": [
    "spark.sql(\"select * from titanicdb limit 5\").show()"
   ]
  },
  {
   "cell_type": "code",
   "execution_count": null,
   "metadata": {
    "application/vnd.databricks.v1+cell": {
     "cellMetadata": {
      "byteLimit": 2048000,
      "implicitDf": true,
      "rowLimit": 10000
     },
     "inputWidgets": {},
     "nuid": "cf431a83-97b0-4496-9a55-9373102c145b",
     "showTitle": false,
     "title": ""
    }
   },
   "outputs": [
    {
     "data": {
      "text/html": [
       "<style scoped>\n",
       "  .table-result-container {\n",
       "    max-height: 300px;\n",
       "    overflow: auto;\n",
       "  }\n",
       "  table, th, td {\n",
       "    border: 1px solid black;\n",
       "    border-collapse: collapse;\n",
       "  }\n",
       "  th, td {\n",
       "    padding: 5px;\n",
       "  }\n",
       "  th {\n",
       "    text-align: left;\n",
       "  }\n",
       "</style><div class='table-result-container'><table class='table-result'><thead style='background-color: white'><tr><th>PassengerId</th><th>Survived</th><th>Pclass</th><th>Name</th><th>Sex</th><th>Age</th><th>SibSp</th><th>Parch</th><th>Ticket</th><th>Fare</th><th>Cabin</th><th>Embarked</th></tr></thead><tbody><tr><td>1</td><td>0</td><td>3</td><td>Braund, Mr. Owen Harris</td><td>male</td><td>22.0</td><td>1</td><td>0</td><td>A/5 21171</td><td>7.25</td><td>null</td><td>S</td></tr><tr><td>2</td><td>1</td><td>1</td><td>Cumings, Mrs. John Bradley (Florence Briggs Thayer)</td><td>female</td><td>38.0</td><td>1</td><td>0</td><td>PC 17599</td><td>71.2833</td><td>C85</td><td>C</td></tr><tr><td>3</td><td>1</td><td>3</td><td>Heikkinen, Miss. Laina</td><td>female</td><td>26.0</td><td>0</td><td>0</td><td>STON/O2. 3101282</td><td>7.925</td><td>null</td><td>S</td></tr><tr><td>4</td><td>1</td><td>1</td><td>Futrelle, Mrs. Jacques Heath (Lily May Peel)</td><td>female</td><td>35.0</td><td>1</td><td>0</td><td>113803</td><td>53.1</td><td>C123</td><td>S</td></tr><tr><td>5</td><td>0</td><td>3</td><td>Allen, Mr. William Henry</td><td>male</td><td>35.0</td><td>0</td><td>0</td><td>373450</td><td>8.05</td><td>null</td><td>S</td></tr></tbody></table></div>"
      ]
     },
     "metadata": {
      "application/vnd.databricks.v1+output": {
       "addedWidgets": {},
       "aggData": [],
       "aggError": "",
       "aggOverflow": false,
       "aggSchema": [],
       "aggSeriesLimitReached": false,
       "aggType": "",
       "arguments": {},
       "columnCustomDisplayInfos": {},
       "data": [
        [
         1,
         0,
         3,
         "Braund, Mr. Owen Harris",
         "male",
         22,
         1,
         0,
         "A/5 21171",
         7.25,
         null,
         "S"
        ],
        [
         2,
         1,
         1,
         "Cumings, Mrs. John Bradley (Florence Briggs Thayer)",
         "female",
         38,
         1,
         0,
         "PC 17599",
         71.2833,
         "C85",
         "C"
        ],
        [
         3,
         1,
         3,
         "Heikkinen, Miss. Laina",
         "female",
         26,
         0,
         0,
         "STON/O2. 3101282",
         7.925,
         null,
         "S"
        ],
        [
         4,
         1,
         1,
         "Futrelle, Mrs. Jacques Heath (Lily May Peel)",
         "female",
         35,
         1,
         0,
         "113803",
         53.1,
         "C123",
         "S"
        ],
        [
         5,
         0,
         3,
         "Allen, Mr. William Henry",
         "male",
         35,
         0,
         0,
         "373450",
         8.05,
         null,
         "S"
        ]
       ],
       "datasetInfos": [],
       "dbfsResultPath": null,
       "isJsonSchema": true,
       "metadata": {},
       "overflow": false,
       "plotOptions": {
        "customPlotOptions": {},
        "displayType": "table",
        "pivotAggregation": null,
        "pivotColumns": null,
        "xColumns": null,
        "yColumns": null
       },
       "removedWidgets": [],
       "schema": [
        {
         "metadata": "{}",
         "name": "PassengerId",
         "type": "\"integer\""
        },
        {
         "metadata": "{}",
         "name": "Survived",
         "type": "\"integer\""
        },
        {
         "metadata": "{}",
         "name": "Pclass",
         "type": "\"integer\""
        },
        {
         "metadata": "{}",
         "name": "Name",
         "type": "\"string\""
        },
        {
         "metadata": "{}",
         "name": "Sex",
         "type": "\"string\""
        },
        {
         "metadata": "{}",
         "name": "Age",
         "type": "\"double\""
        },
        {
         "metadata": "{}",
         "name": "SibSp",
         "type": "\"integer\""
        },
        {
         "metadata": "{}",
         "name": "Parch",
         "type": "\"integer\""
        },
        {
         "metadata": "{}",
         "name": "Ticket",
         "type": "\"string\""
        },
        {
         "metadata": "{}",
         "name": "Fare",
         "type": "\"double\""
        },
        {
         "metadata": "{}",
         "name": "Cabin",
         "type": "\"string\""
        },
        {
         "metadata": "{}",
         "name": "Embarked",
         "type": "\"string\""
        }
       ],
       "type": "table"
      }
     },
     "output_type": "display_data"
    }
   ],
   "source": [
    "%sql\n",
    "select * from titanicdb limit 5"
   ]
  },
  {
   "cell_type": "code",
   "execution_count": null,
   "metadata": {
    "application/vnd.databricks.v1+cell": {
     "cellMetadata": {
      "byteLimit": 2048000,
      "rowLimit": 10000
     },
     "inputWidgets": {},
     "nuid": "7b8d3f30-9922-44bf-9117-9b6744dd1834",
     "showTitle": false,
     "title": ""
    }
   },
   "outputs": [
    {
     "name": "stdout",
     "output_type": "stream",
     "text": [
      "+-------+-----------------+-------------------+------------------+--------------------+------+------------------+------------------+-------------------+------------------+-----------------+-----+--------+\n",
      "|summary|      PassengerId|           Survived|            Pclass|                Name|   Sex|               Age|             SibSp|              Parch|            Ticket|             Fare|Cabin|Embarked|\n",
      "+-------+-----------------+-------------------+------------------+--------------------+------+------------------+------------------+-------------------+------------------+-----------------+-----+--------+\n",
      "|  count|              891|                891|               891|                 891|   891|               714|               891|                891|               891|              891|  204|     889|\n",
      "|   mean|            446.0| 0.3838383838383838| 2.308641975308642|                null|  null| 29.69911764705882|0.5230078563411896|0.38159371492704824|260318.54916792738| 32.2042079685746| null|    null|\n",
      "| stddev|257.3538420152301|0.48659245426485753|0.8360712409770491|                null|  null|14.526497332334035|1.1027434322934315| 0.8060572211299488|471609.26868834975|49.69342859718089| null|    null|\n",
      "|    min|                1|                  0|                 1|\"Andersson, Mr. A...|female|              0.42|                 0|                  0|            110152|              0.0|  A10|       C|\n",
      "|    max|              891|                  1|                 3|van Melkebeke, Mr...|  male|              80.0|                 8|                  6|         WE/P 5735|         512.3292|    T|       S|\n",
      "+-------+-----------------+-------------------+------------------+--------------------+------+------------------+------------------+-------------------+------------------+-----------------+-----+--------+\n",
      "\n"
     ]
    }
   ],
   "source": [
    "df.describe().show() # df.describe('Age').show() "
   ]
  },
  {
   "cell_type": "code",
   "execution_count": null,
   "metadata": {
    "application/vnd.databricks.v1+cell": {
     "cellMetadata": {
      "byteLimit": 2048000,
      "rowLimit": 10000
     },
     "inputWidgets": {},
     "nuid": "fe20985a-bcdd-4bd2-a708-a147a6bc8d5b",
     "showTitle": false,
     "title": ""
    }
   },
   "outputs": [
    {
     "name": "stdout",
     "output_type": "stream",
     "text": [
      "+--------------------+------+----+------+--------+\n",
      "|                Name|   Sex| Age|Pclass|    Fare|\n",
      "+--------------------+------+----+------+--------+\n",
      "|Cumings, Mrs. Joh...|female|38.0|     1| 71.2833|\n",
      "|Heikkinen, Miss. ...|female|26.0|     3|   7.925|\n",
      "|Futrelle, Mrs. Ja...|female|35.0|     1|    53.1|\n",
      "|Johnson, Mrs. Osc...|female|27.0|     3| 11.1333|\n",
      "|Nasser, Mrs. Nich...|female|14.0|     2| 30.0708|\n",
      "|Sandstrom, Miss. ...|female| 4.0|     3|    16.7|\n",
      "|Bonnell, Miss. El...|female|58.0|     1|   26.55|\n",
      "|Hewlett, Mrs. (Ma...|female|55.0|     2|    16.0|\n",
      "|Williams, Mr. Cha...|  male|null|     2|    13.0|\n",
      "|Masselmani, Mrs. ...|female|null|     3|   7.225|\n",
      "|Beesley, Mr. Lawr...|  male|34.0|     2|    13.0|\n",
      "|\"McGowan, Miss. A...|female|15.0|     3|  8.0292|\n",
      "|Sloper, Mr. Willi...|  male|28.0|     1|    35.5|\n",
      "|Asplund, Mrs. Car...|female|38.0|     3| 31.3875|\n",
      "|\"O'Dwyer, Miss. E...|female|null|     3|  7.8792|\n",
      "|Spencer, Mrs. Wil...|female|null|     1|146.5208|\n",
      "|Glynn, Miss. Mary...|female|null|     3|    7.75|\n",
      "|    Mamee, Mr. Hanna|  male|null|     3|  7.2292|\n",
      "|Nicola-Yarred, Mi...|female|14.0|     3| 11.2417|\n",
      "|Laroche, Miss. Si...|female| 3.0|     2| 41.5792|\n",
      "+--------------------+------+----+------+--------+\n",
      "only showing top 20 rows\n",
      "\n"
     ]
    }
   ],
   "source": [
    "df.filter(\"Survived==1\").select([\"Name\",\"Sex\", \"Age\",\"Pclass\",\"Fare\"]).show()"
   ]
  },
  {
   "cell_type": "code",
   "execution_count": null,
   "metadata": {
    "application/vnd.databricks.v1+cell": {
     "cellMetadata": {
      "byteLimit": 2048000,
      "rowLimit": 10000
     },
     "inputWidgets": {},
     "nuid": "9a86ada2-6618-4ecc-b86e-743d91870e2a",
     "showTitle": false,
     "title": ""
    }
   },
   "outputs": [
    {
     "name": "stdout",
     "output_type": "stream",
     "text": [
      "Out[41]: 43"
     ]
    }
   ],
   "source": [
    "df.filter((df['Age']>50) & (df[\"SibSp\"]==0) & (df['Parch']==0)).count()"
   ]
  },
  {
   "cell_type": "code",
   "execution_count": null,
   "metadata": {
    "application/vnd.databricks.v1+cell": {
     "cellMetadata": {
      "byteLimit": 2048000,
      "rowLimit": 10000
     },
     "inputWidgets": {},
     "nuid": "61147552-0523-4f93-9a9c-d234d4deb0a9",
     "showTitle": false,
     "title": ""
    }
   },
   "outputs": [
    {
     "name": "stdout",
     "output_type": "stream",
     "text": [
      "+-----------+--------+------+--------------------+------+----+-----+-----+----------------+-------+-----+--------+------+\n",
      "|PassengerId|Survived|Pclass|                Name|   Sex| Age|SibSp|Parch|          Ticket|   Fare|Cabin|Embarked|family|\n",
      "+-----------+--------+------+--------------------+------+----+-----+-----+----------------+-------+-----+--------+------+\n",
      "|          1|       0|     3|Braund, Mr. Owen ...|  male|22.0|    1|    0|       A/5 21171|   7.25| null|       S|     1|\n",
      "|          2|       1|     1|Cumings, Mrs. Joh...|female|38.0|    1|    0|        PC 17599|71.2833|  C85|       C|     1|\n",
      "|          3|       1|     3|Heikkinen, Miss. ...|female|26.0|    0|    0|STON/O2. 3101282|  7.925| null|       S|     0|\n",
      "|          4|       1|     1|Futrelle, Mrs. Ja...|female|35.0|    1|    0|          113803|   53.1| C123|       S|     1|\n",
      "|          5|       0|     3|Allen, Mr. Willia...|  male|35.0|    0|    0|          373450|   8.05| null|       S|     0|\n",
      "|          6|       0|     3|    Moran, Mr. James|  male|null|    0|    0|          330877| 8.4583| null|       Q|     0|\n",
      "|          7|       0|     1|McCarthy, Mr. Tim...|  male|54.0|    0|    0|           17463|51.8625|  E46|       S|     0|\n",
      "|          8|       0|     3|Palsson, Master. ...|  male| 2.0|    3|    1|          349909| 21.075| null|       S|     4|\n",
      "|          9|       1|     3|Johnson, Mrs. Osc...|female|27.0|    0|    2|          347742|11.1333| null|       S|     2|\n",
      "|         10|       1|     2|Nasser, Mrs. Nich...|female|14.0|    1|    0|          237736|30.0708| null|       C|     1|\n",
      "|         11|       1|     3|Sandstrom, Miss. ...|female| 4.0|    1|    1|         PP 9549|   16.7|   G6|       S|     2|\n",
      "|         12|       1|     1|Bonnell, Miss. El...|female|58.0|    0|    0|          113783|  26.55| C103|       S|     0|\n",
      "|         13|       0|     3|Saundercock, Mr. ...|  male|20.0|    0|    0|       A/5. 2151|   8.05| null|       S|     0|\n",
      "|         14|       0|     3|Andersson, Mr. An...|  male|39.0|    1|    5|          347082| 31.275| null|       S|     6|\n",
      "|         15|       0|     3|Vestrom, Miss. Hu...|female|14.0|    0|    0|          350406| 7.8542| null|       S|     0|\n",
      "|         16|       1|     2|Hewlett, Mrs. (Ma...|female|55.0|    0|    0|          248706|   16.0| null|       S|     0|\n",
      "|         17|       0|     3|Rice, Master. Eugene|  male| 2.0|    4|    1|          382652| 29.125| null|       Q|     5|\n",
      "|         18|       1|     2|Williams, Mr. Cha...|  male|null|    0|    0|          244373|   13.0| null|       S|     0|\n",
      "|         19|       0|     3|Vander Planke, Mr...|female|31.0|    1|    0|          345763|   18.0| null|       S|     1|\n",
      "|         20|       1|     3|Masselmani, Mrs. ...|female|null|    0|    0|            2649|  7.225| null|       C|     0|\n",
      "+-----------+--------+------+--------------------+------+----+-----+-----+----------------+-------+-----+--------+------+\n",
      "only showing top 20 rows\n",
      "\n"
     ]
    }
   ],
   "source": [
    "df.withColumn(\"family\",(df['SibSp']+df['Parch'])).show()"
   ]
  },
  {
   "cell_type": "code",
   "execution_count": null,
   "metadata": {
    "application/vnd.databricks.v1+cell": {
     "cellMetadata": {
      "byteLimit": 2048000,
      "rowLimit": 10000
     },
     "inputWidgets": {},
     "nuid": "eee4112e-9bda-41f4-8691-693ad5647396",
     "showTitle": false,
     "title": ""
    }
   },
   "outputs": [
    {
     "name": "stdout",
     "output_type": "stream",
     "text": [
      "Out[50]: ['PassengerId',\n",
      " 'Survived',\n",
      " 'Pclass',\n",
      " 'Name',\n",
      " 'Sex',\n",
      " 'Age',\n",
      " 'SibSp',\n",
      " 'Parch',\n",
      " 'Ticket',\n",
      " 'Fare',\n",
      " 'Cabin',\n",
      " 'Embarked']"
     ]
    }
   ],
   "source": [
    "df.columns"
   ]
  },
  {
   "cell_type": "code",
   "execution_count": null,
   "metadata": {
    "application/vnd.databricks.v1+cell": {
     "cellMetadata": {
      "byteLimit": 2048000,
      "rowLimit": 10000
     },
     "inputWidgets": {},
     "nuid": "493bbb92-c96b-4afb-9092-1217711970f6",
     "showTitle": false,
     "title": ""
    }
   },
   "outputs": [
    {
     "name": "stdout",
     "output_type": "stream",
     "text": [
      "Out[171]: ['PassengerId',\n",
      " 'Survived',\n",
      " 'Pclass',\n",
      " 'Name',\n",
      " 'Sex',\n",
      " 'Age',\n",
      " 'SibSp',\n",
      " 'Parch',\n",
      " 'Ticket',\n",
      " 'Fare',\n",
      " 'Cabin',\n",
      " 'Embarked',\n",
      " 'family']"
     ]
    }
   ],
   "source": [
    "df = df.withColumn(\"family\",(df['SibSp']+df['Parch']))\n",
    "df.columns"
   ]
  },
  {
   "cell_type": "code",
   "execution_count": null,
   "metadata": {
    "application/vnd.databricks.v1+cell": {
     "cellMetadata": {
      "byteLimit": 2048000,
      "rowLimit": 10000
     },
     "inputWidgets": {},
     "nuid": "22e75a83-6077-4732-8df8-1c7962f19ed7",
     "showTitle": false,
     "title": ""
    }
   },
   "outputs": [
    {
     "name": "stdout",
     "output_type": "stream",
     "text": [
      "Out[172]: ['PassengerId',\n",
      " 'Survived',\n",
      " 'Pclass',\n",
      " 'Name',\n",
      " 'Sex',\n",
      " 'Age',\n",
      " 'SibSp',\n",
      " 'Parch',\n",
      " 'Ticket',\n",
      " 'Fare',\n",
      " 'Cabin',\n",
      " 'Embarked',\n",
      " 'Family']"
     ]
    }
   ],
   "source": [
    "df=df.withColumnRenamed('family','Family')\n",
    "df.columns"
   ]
  },
  {
   "cell_type": "code",
   "execution_count": null,
   "metadata": {
    "application/vnd.databricks.v1+cell": {
     "cellMetadata": {
      "byteLimit": 2048000,
      "rowLimit": 10000
     },
     "inputWidgets": {},
     "nuid": "a28c6736-f99e-4f62-9652-c7d6308564f7",
     "showTitle": false,
     "title": ""
    }
   },
   "outputs": [
    {
     "name": "stdout",
     "output_type": "stream",
     "text": [
      "+--------+----------------+-------------+-----------+--------+----------+----------+------------------+-----------+\n",
      "|Survived|sum(PassengerId)|sum(Survived)|sum(Pclass)|sum(Age)|sum(SibSp)|sum(Parch)|         sum(Fare)|sum(Family)|\n",
      "+--------+----------------+-------------+-----------+--------+----------+----------+------------------+-----------+\n",
      "|       1|          151974|          342|        667| 8219.67|       162|       159|16551.229399999997|        321|\n",
      "|       0|          245412|            0|       1390| 12985.5|       304|       181|12142.719899999987|        485|\n",
      "+--------+----------------+-------------+-----------+--------+----------+----------+------------------+-----------+\n",
      "\n"
     ]
    }
   ],
   "source": [
    "df.groupBy('Survived').sum().show()"
   ]
  },
  {
   "cell_type": "code",
   "execution_count": null,
   "metadata": {
    "application/vnd.databricks.v1+cell": {
     "cellMetadata": {
      "byteLimit": 2048000,
      "rowLimit": 10000
     },
     "inputWidgets": {},
     "nuid": "9907ab78-cec4-4fa6-b989-cbbc03a05c30",
     "showTitle": false,
     "title": ""
    }
   },
   "outputs": [
    {
     "name": "stdout",
     "output_type": "stream",
     "text": [
      "+--------+--------+\n",
      "|Survived|sum(Age)|\n",
      "+--------+--------+\n",
      "|       1| 8219.67|\n",
      "|       0| 12985.5|\n",
      "+--------+--------+\n",
      "\n"
     ]
    }
   ],
   "source": [
    "df.groupBy('Survived').sum().select(['Survived', 'sum(Age)']).show()"
   ]
  },
  {
   "cell_type": "code",
   "execution_count": null,
   "metadata": {
    "application/vnd.databricks.v1+cell": {
     "cellMetadata": {
      "byteLimit": 2048000,
      "rowLimit": 10000
     },
     "inputWidgets": {},
     "nuid": "77f51598-b080-422f-9182-106d8e0d1d47",
     "showTitle": false,
     "title": ""
    }
   },
   "outputs": [
    {
     "name": "stdout",
     "output_type": "stream",
     "text": [
      "+-------------+\n",
      "|sum(Survived)|\n",
      "+-------------+\n",
      "|          342|\n",
      "+-------------+\n",
      "\n"
     ]
    }
   ],
   "source": [
    "df.agg({'Survived':'sum'}).show()"
   ]
  },
  {
   "cell_type": "code",
   "execution_count": null,
   "metadata": {
    "application/vnd.databricks.v1+cell": {
     "cellMetadata": {
      "byteLimit": 2048000,
      "rowLimit": 10000
     },
     "inputWidgets": {},
     "nuid": "2f11dfb9-e5d5-4ca1-a7aa-1b682ae4201b",
     "showTitle": false,
     "title": ""
    }
   },
   "outputs": [
    {
     "name": "stdout",
     "output_type": "stream",
     "text": [
      "Out[70]: 342"
     ]
    }
   ],
   "source": [
    "df.agg({'Survived':'sum'}).collect()[0][0]\n"
   ]
  },
  {
   "cell_type": "code",
   "execution_count": null,
   "metadata": {
    "application/vnd.databricks.v1+cell": {
     "cellMetadata": {
      "byteLimit": 2048000,
      "rowLimit": 10000
     },
     "inputWidgets": {},
     "nuid": "1a3a525b-4c9e-43ae-b39c-7193030e4a34",
     "showTitle": false,
     "title": ""
    }
   },
   "outputs": [
    {
     "name": "stdout",
     "output_type": "stream",
     "text": [
      "+--------+------------------+---------------+\n",
      "|Survived|       avg(Pclass)|count(Survived)|\n",
      "+--------+------------------+---------------+\n",
      "|       1|1.9502923976608186|            342|\n",
      "|       0|2.5318761384335153|            549|\n",
      "+--------+------------------+---------------+\n",
      "\n"
     ]
    }
   ],
   "source": [
    "df.groupBy('Survived').agg({'Pclass':'mean','Survived':'count'}).show()"
   ]
  },
  {
   "cell_type": "code",
   "execution_count": null,
   "metadata": {
    "application/vnd.databricks.v1+cell": {
     "cellMetadata": {
      "byteLimit": 2048000,
      "rowLimit": 10000
     },
     "inputWidgets": {},
     "nuid": "c4529838-f701-4b9a-95b1-cca8fbf31008",
     "showTitle": false,
     "title": ""
    }
   },
   "outputs": [
    {
     "name": "stdout",
     "output_type": "stream",
     "text": [
      "+-----------+--------+------+--------------------+----+----+-----+-----+----------+-------+-----+--------+------+\n",
      "|PassengerId|Survived|Pclass|                Name| Sex| Age|SibSp|Parch|    Ticket|   Fare|Cabin|Embarked|Family|\n",
      "+-----------+--------+------+--------------------+----+----+-----+-----+----------+-------+-----+--------+------+\n",
      "|        631|       1|     1|Barkworth, Mr. Al...|male|80.0|    0|    0|     27042|   30.0|  A23|       S|     0|\n",
      "|        852|       0|     3| Svensson, Mr. Johan|male|74.0|    0|    0|    347060|  7.775| null|       S|     0|\n",
      "|         97|       0|     1|Goldschmidt, Mr. ...|male|71.0|    0|    0|  PC 17754|34.6542|   A5|       C|     0|\n",
      "|        494|       0|     1|Artagaveytia, Mr....|male|71.0|    0|    0|  PC 17609|49.5042| null|       C|     0|\n",
      "|        117|       0|     3|Connors, Mr. Patrick|male|70.5|    0|    0|    370369|   7.75| null|       Q|     0|\n",
      "|        673|       0|     2|Mitchell, Mr. Hen...|male|70.0|    0|    0|C.A. 24580|   10.5| null|       S|     0|\n",
      "|        746|       0|     1|Crosby, Capt. Edw...|male|70.0|    1|    1| WE/P 5735|   71.0|  B22|       S|     2|\n",
      "|         34|       0|     2|Wheadon, Mr. Edwa...|male|66.0|    0|    0|C.A. 24579|   10.5| null|       S|     0|\n",
      "|         55|       0|     1|Ostby, Mr. Engelh...|male|65.0|    0|    1|    113509|61.9792|  B30|       C|     1|\n",
      "|        281|       0|     3|    Duane, Mr. Frank|male|65.0|    0|    0|    336439|   7.75| null|       Q|     0|\n",
      "+-----------+--------+------+--------------------+----+----+-----+-----+----------+-------+-----+--------+------+\n",
      "only showing top 10 rows\n",
      "\n"
     ]
    }
   ],
   "source": [
    "df.sort(df.Age.desc()).show(10)"
   ]
  },
  {
   "cell_type": "markdown",
   "metadata": {
    "application/vnd.databricks.v1+cell": {
     "cellMetadata": {},
     "inputWidgets": {},
     "nuid": "c2ee4442-5a53-4b72-ba1e-ef82e4bd2fa3",
     "showTitle": false,
     "title": ""
    }
   },
   "source": [
    "### Joins"
   ]
  },
  {
   "cell_type": "code",
   "execution_count": null,
   "metadata": {
    "application/vnd.databricks.v1+cell": {
     "cellMetadata": {
      "byteLimit": 2048000,
      "rowLimit": 10000
     },
     "inputWidgets": {},
     "nuid": "e4943c92-a284-42a0-bc80-433c0382427a",
     "showTitle": false,
     "title": ""
    }
   },
   "outputs": [],
   "source": [
    "df2 = spark.read.csv(\"/FileStore/tables/titanic.csv\", inferSchema=True,  header=True)\n"
   ]
  },
  {
   "cell_type": "code",
   "execution_count": null,
   "metadata": {
    "application/vnd.databricks.v1+cell": {
     "cellMetadata": {
      "byteLimit": 2048000,
      "rowLimit": 10000
     },
     "inputWidgets": {},
     "nuid": "db400825-a397-4ed1-9bd7-e7a7ea2ee710",
     "showTitle": false,
     "title": ""
    }
   },
   "outputs": [],
   "source": [
    "df2=df2.limit(10)"
   ]
  },
  {
   "cell_type": "code",
   "execution_count": null,
   "metadata": {
    "application/vnd.databricks.v1+cell": {
     "cellMetadata": {
      "byteLimit": 2048000,
      "rowLimit": 10000
     },
     "inputWidgets": {},
     "nuid": "40020781-d7c6-4f6d-a78d-969d6140d134",
     "showTitle": false,
     "title": ""
    }
   },
   "outputs": [
    {
     "name": "stdout",
     "output_type": "stream",
     "text": [
      "(10, 12)\n"
     ]
    }
   ],
   "source": [
    "print((df2.count(), len(df2.columns)))"
   ]
  },
  {
   "cell_type": "code",
   "execution_count": null,
   "metadata": {
    "application/vnd.databricks.v1+cell": {
     "cellMetadata": {
      "byteLimit": 2048000,
      "rowLimit": 10000
     },
     "inputWidgets": {},
     "nuid": "b830491c-5ed0-40d5-b8c0-3ee3b08f0d6e",
     "showTitle": false,
     "title": ""
    }
   },
   "outputs": [
    {
     "name": "stdout",
     "output_type": "stream",
     "text": [
      "+-----------+--------+------+--------------------+------+----+-----+-----+----------------+-------+-----+--------+-----------+--------+------+--------------------+------+----+-----+-----+----------------+-------+-----+--------+------+\n",
      "|PassengerId|Survived|Pclass|                Name|   Sex| Age|SibSp|Parch|          Ticket|   Fare|Cabin|Embarked|PassengerId|Survived|Pclass|                Name|   Sex| Age|SibSp|Parch|          Ticket|   Fare|Cabin|Embarked|Family|\n",
      "+-----------+--------+------+--------------------+------+----+-----+-----+----------------+-------+-----+--------+-----------+--------+------+--------------------+------+----+-----+-----+----------------+-------+-----+--------+------+\n",
      "|          1|       0|     3|Braund, Mr. Owen ...|  male|22.0|    1|    0|       A/5 21171|   7.25| null|       S|          1|       0|     3|Braund, Mr. Owen ...|  male|22.0|    1|    0|       A/5 21171|   7.25| null|       S|     1|\n",
      "|          2|       1|     1|Cumings, Mrs. Joh...|female|38.0|    1|    0|        PC 17599|71.2833|  C85|       C|          2|       1|     1|Cumings, Mrs. Joh...|female|38.0|    1|    0|        PC 17599|71.2833|  C85|       C|     1|\n",
      "|          3|       1|     3|Heikkinen, Miss. ...|female|26.0|    0|    0|STON/O2. 3101282|  7.925| null|       S|          3|       1|     3|Heikkinen, Miss. ...|female|26.0|    0|    0|STON/O2. 3101282|  7.925| null|       S|     0|\n",
      "|          4|       1|     1|Futrelle, Mrs. Ja...|female|35.0|    1|    0|          113803|   53.1| C123|       S|          4|       1|     1|Futrelle, Mrs. Ja...|female|35.0|    1|    0|          113803|   53.1| C123|       S|     1|\n",
      "|          5|       0|     3|Allen, Mr. Willia...|  male|35.0|    0|    0|          373450|   8.05| null|       S|          5|       0|     3|Allen, Mr. Willia...|  male|35.0|    0|    0|          373450|   8.05| null|       S|     0|\n",
      "|          6|       0|     3|    Moran, Mr. James|  male|null|    0|    0|          330877| 8.4583| null|       Q|          6|       0|     3|    Moran, Mr. James|  male|null|    0|    0|          330877| 8.4583| null|       Q|     0|\n",
      "|          7|       0|     1|McCarthy, Mr. Tim...|  male|54.0|    0|    0|           17463|51.8625|  E46|       S|          7|       0|     1|McCarthy, Mr. Tim...|  male|54.0|    0|    0|           17463|51.8625|  E46|       S|     0|\n",
      "|          8|       0|     3|Palsson, Master. ...|  male| 2.0|    3|    1|          349909| 21.075| null|       S|          8|       0|     3|Palsson, Master. ...|  male| 2.0|    3|    1|          349909| 21.075| null|       S|     4|\n",
      "|          9|       1|     3|Johnson, Mrs. Osc...|female|27.0|    0|    2|          347742|11.1333| null|       S|          9|       1|     3|Johnson, Mrs. Osc...|female|27.0|    0|    2|          347742|11.1333| null|       S|     2|\n",
      "|         10|       1|     2|Nasser, Mrs. Nich...|female|14.0|    1|    0|          237736|30.0708| null|       C|         10|       1|     2|Nasser, Mrs. Nich...|female|14.0|    1|    0|          237736|30.0708| null|       C|     1|\n",
      "+-----------+--------+------+--------------------+------+----+-----+-----+----------------+-------+-----+--------+-----------+--------+------+--------------------+------+----+-----+-----+----------------+-------+-----+--------+------+\n",
      "\n"
     ]
    }
   ],
   "source": [
    "df2.join(df,df.Name==df2.Name, how='inner').show() # left_outer,right_outer count "
   ]
  },
  {
   "cell_type": "markdown",
   "metadata": {
    "application/vnd.databricks.v1+cell": {
     "cellMetadata": {},
     "inputWidgets": {},
     "nuid": "54eb6fe3-e1dd-4255-98ce-0406ae0e8aef",
     "showTitle": false,
     "title": ""
    }
   },
   "source": [
    "### Missing value imputation"
   ]
  },
  {
   "cell_type": "code",
   "execution_count": null,
   "metadata": {
    "application/vnd.databricks.v1+cell": {
     "cellMetadata": {
      "byteLimit": 2048000,
      "rowLimit": 10000
     },
     "inputWidgets": {},
     "nuid": "212a9f47-63ae-4508-8ffb-1ac84d07701c",
     "showTitle": false,
     "title": ""
    }
   },
   "outputs": [
    {
     "name": "stdout",
     "output_type": "stream",
     "text": [
      "Out[107]: 891"
     ]
    }
   ],
   "source": [
    "df.count()"
   ]
  },
  {
   "cell_type": "code",
   "execution_count": null,
   "metadata": {
    "application/vnd.databricks.v1+cell": {
     "cellMetadata": {
      "byteLimit": 2048000,
      "rowLimit": 10000
     },
     "inputWidgets": {},
     "nuid": "866549f7-b66e-4551-9962-e7d1d6c0db8d",
     "showTitle": false,
     "title": ""
    }
   },
   "outputs": [],
   "source": [
    "from pyspark.sql.functions import when, count, col"
   ]
  },
  {
   "cell_type": "code",
   "execution_count": null,
   "metadata": {
    "application/vnd.databricks.v1+cell": {
     "cellMetadata": {
      "byteLimit": 2048000,
      "rowLimit": 10000
     },
     "inputWidgets": {},
     "nuid": "6bf0ec03-255b-4406-a400-59971dfdb9c1",
     "showTitle": false,
     "title": ""
    }
   },
   "outputs": [
    {
     "name": "stdout",
     "output_type": "stream",
     "text": [
      "+-----------+--------+------+--------------------+------+----+-----+-----+----------------+-------+-----+--------+------+\n",
      "|PassengerId|Survived|Pclass|                Name|   Sex| Age|SibSp|Parch|          Ticket|   Fare|Cabin|Embarked|Family|\n",
      "+-----------+--------+------+--------------------+------+----+-----+-----+----------------+-------+-----+--------+------+\n",
      "|          1|       0|     3|Braund, Mr. Owen ...|  male|22.0|    1|    0|       A/5 21171|   7.25| null|       S|     1|\n",
      "|          2|       1|     1|Cumings, Mrs. Joh...|female|38.0|    1|    0|        PC 17599|71.2833|  C85|       C|     1|\n",
      "|          3|       1|     3|Heikkinen, Miss. ...|female|26.0|    0|    0|STON/O2. 3101282|  7.925| null|       S|     0|\n",
      "|          4|       1|     1|Futrelle, Mrs. Ja...|female|35.0|    1|    0|          113803|   53.1| C123|       S|     1|\n",
      "|          5|       0|     3|Allen, Mr. Willia...|  male|35.0|    0|    0|          373450|   8.05| null|       S|     0|\n",
      "|          6|       0|     3|    Moran, Mr. James|  male|null|    0|    0|          330877| 8.4583| null|       Q|     0|\n",
      "|          7|       0|     1|McCarthy, Mr. Tim...|  male|54.0|    0|    0|           17463|51.8625|  E46|       S|     0|\n",
      "|          8|       0|     3|Palsson, Master. ...|  male| 2.0|    3|    1|          349909| 21.075| null|       S|     4|\n",
      "|          9|       1|     3|Johnson, Mrs. Osc...|female|27.0|    0|    2|          347742|11.1333| null|       S|     2|\n",
      "|         10|       1|     2|Nasser, Mrs. Nich...|female|14.0|    1|    0|          237736|30.0708| null|       C|     1|\n",
      "|         11|       1|     3|Sandstrom, Miss. ...|female| 4.0|    1|    1|         PP 9549|   16.7|   G6|       S|     2|\n",
      "|         12|       1|     1|Bonnell, Miss. El...|female|58.0|    0|    0|          113783|  26.55| C103|       S|     0|\n",
      "|         13|       0|     3|Saundercock, Mr. ...|  male|20.0|    0|    0|       A/5. 2151|   8.05| null|       S|     0|\n",
      "|         14|       0|     3|Andersson, Mr. An...|  male|39.0|    1|    5|          347082| 31.275| null|       S|     6|\n",
      "|         15|       0|     3|Vestrom, Miss. Hu...|female|14.0|    0|    0|          350406| 7.8542| null|       S|     0|\n",
      "|         16|       1|     2|Hewlett, Mrs. (Ma...|female|55.0|    0|    0|          248706|   16.0| null|       S|     0|\n",
      "|         17|       0|     3|Rice, Master. Eugene|  male| 2.0|    4|    1|          382652| 29.125| null|       Q|     5|\n",
      "|         18|       1|     2|Williams, Mr. Cha...|  male|null|    0|    0|          244373|   13.0| null|       S|     0|\n",
      "|         19|       0|     3|Vander Planke, Mr...|female|31.0|    1|    0|          345763|   18.0| null|       S|     1|\n",
      "|         20|       1|     3|Masselmani, Mrs. ...|female|null|    0|    0|            2649|  7.225| null|       C|     0|\n",
      "+-----------+--------+------+--------------------+------+----+-----+-----+----------------+-------+-----+--------+------+\n",
      "only showing top 20 rows\n",
      "\n"
     ]
    }
   ],
   "source": [
    "df.select([col(c) for c in df.columns]).show()\n"
   ]
  },
  {
   "cell_type": "code",
   "execution_count": null,
   "metadata": {
    "application/vnd.databricks.v1+cell": {
     "cellMetadata": {
      "byteLimit": 2048000,
      "rowLimit": 10000
     },
     "inputWidgets": {},
     "nuid": "ffc1ad6c-f20e-428f-93cd-2b034bc3490c",
     "showTitle": false,
     "title": ""
    }
   },
   "outputs": [
    {
     "name": "stdout",
     "output_type": "stream",
     "text": [
      "+----------------------------------------------------+----------------------------------------------+------------------------------------------+--------------------------------------+------------------------------------+------------------------------------+----------------------------------------+----------------------------------------+------------------------------------------+--------------------------------------+----------------------------------------+----------------------------------------------+------------------------------------------+\n",
      "|CASE WHEN (PassengerId IS NULL) THEN PassengerId END|CASE WHEN (Survived IS NULL) THEN Survived END|CASE WHEN (Pclass IS NULL) THEN Pclass END|CASE WHEN (Name IS NULL) THEN Name END|CASE WHEN (Sex IS NULL) THEN Sex END|CASE WHEN (Age IS NULL) THEN Age END|CASE WHEN (SibSp IS NULL) THEN SibSp END|CASE WHEN (Parch IS NULL) THEN Parch END|CASE WHEN (Ticket IS NULL) THEN Ticket END|CASE WHEN (Fare IS NULL) THEN Fare END|CASE WHEN (Cabin IS NULL) THEN Cabin END|CASE WHEN (Embarked IS NULL) THEN Embarked END|CASE WHEN (Family IS NULL) THEN Family END|\n",
      "+----------------------------------------------------+----------------------------------------------+------------------------------------------+--------------------------------------+------------------------------------+------------------------------------+----------------------------------------+----------------------------------------+------------------------------------------+--------------------------------------+----------------------------------------+----------------------------------------------+------------------------------------------+\n",
      "|                                                null|                                          null|                                      null|                                  null|                                null|                                null|                                    null|                                    null|                                      null|                                  null|                                    null|                                          null|                                      null|\n",
      "|                                                null|                                          null|                                      null|                                  null|                                null|                                null|                                    null|                                    null|                                      null|                                  null|                                    null|                                          null|                                      null|\n",
      "|                                                null|                                          null|                                      null|                                  null|                                null|                                null|                                    null|                                    null|                                      null|                                  null|                                    null|                                          null|                                      null|\n",
      "|                                                null|                                          null|                                      null|                                  null|                                null|                                null|                                    null|                                    null|                                      null|                                  null|                                    null|                                          null|                                      null|\n",
      "|                                                null|                                          null|                                      null|                                  null|                                null|                                null|                                    null|                                    null|                                      null|                                  null|                                    null|                                          null|                                      null|\n",
      "|                                                null|                                          null|                                      null|                                  null|                                null|                                null|                                    null|                                    null|                                      null|                                  null|                                    null|                                          null|                                      null|\n",
      "|                                                null|                                          null|                                      null|                                  null|                                null|                                null|                                    null|                                    null|                                      null|                                  null|                                    null|                                          null|                                      null|\n",
      "|                                                null|                                          null|                                      null|                                  null|                                null|                                null|                                    null|                                    null|                                      null|                                  null|                                    null|                                          null|                                      null|\n",
      "|                                                null|                                          null|                                      null|                                  null|                                null|                                null|                                    null|                                    null|                                      null|                                  null|                                    null|                                          null|                                      null|\n",
      "|                                                null|                                          null|                                      null|                                  null|                                null|                                null|                                    null|                                    null|                                      null|                                  null|                                    null|                                          null|                                      null|\n",
      "|                                                null|                                          null|                                      null|                                  null|                                null|                                null|                                    null|                                    null|                                      null|                                  null|                                    null|                                          null|                                      null|\n",
      "|                                                null|                                          null|                                      null|                                  null|                                null|                                null|                                    null|                                    null|                                      null|                                  null|                                    null|                                          null|                                      null|\n",
      "|                                                null|                                          null|                                      null|                                  null|                                null|                                null|                                    null|                                    null|                                      null|                                  null|                                    null|                                          null|                                      null|\n",
      "|                                                null|                                          null|                                      null|                                  null|                                null|                                null|                                    null|                                    null|                                      null|                                  null|                                    null|                                          null|                                      null|\n",
      "|                                                null|                                          null|                                      null|                                  null|                                null|                                null|                                    null|                                    null|                                      null|                                  null|                                    null|                                          null|                                      null|\n",
      "|                                                null|                                          null|                                      null|                                  null|                                null|                                null|                                    null|                                    null|                                      null|                                  null|                                    null|                                          null|                                      null|\n",
      "|                                                null|                                          null|                                      null|                                  null|                                null|                                null|                                    null|                                    null|                                      null|                                  null|                                    null|                                          null|                                      null|\n",
      "|                                                null|                                          null|                                      null|                                  null|                                null|                                null|                                    null|                                    null|                                      null|                                  null|                                    null|                                          null|                                      null|\n",
      "|                                                null|                                          null|                                      null|                                  null|                                null|                                null|                                    null|                                    null|                                      null|                                  null|                                    null|                                          null|                                      null|\n",
      "|                                                null|                                          null|                                      null|                                  null|                                null|                                null|                                    null|                                    null|                                      null|                                  null|                                    null|                                          null|                                      null|\n",
      "+----------------------------------------------------+----------------------------------------------+------------------------------------------+--------------------------------------+------------------------------------+------------------------------------+----------------------------------------+----------------------------------------+------------------------------------------+--------------------------------------+----------------------------------------+----------------------------------------------+------------------------------------------+\n",
      "only showing top 20 rows\n",
      "\n"
     ]
    }
   ],
   "source": [
    "df.select([when(col(c).isNull(), col(c)) for c in df.columns]).show()\n"
   ]
  },
  {
   "cell_type": "code",
   "execution_count": null,
   "metadata": {
    "application/vnd.databricks.v1+cell": {
     "cellMetadata": {
      "byteLimit": 2048000,
      "rowLimit": 10000
     },
     "inputWidgets": {},
     "nuid": "5f464d7d-c2bb-46bc-9a9a-4c17d87e09df",
     "showTitle": false,
     "title": ""
    }
   },
   "outputs": [
    {
     "name": "stdout",
     "output_type": "stream",
     "text": [
      "+-----------+--------+------+----+---+---+-----+-----+------+----+-----+--------+------+\n",
      "|PassengerId|Survived|Pclass|Name|Sex|Age|SibSp|Parch|Ticket|Fare|Cabin|Embarked|Family|\n",
      "+-----------+--------+------+----+---+---+-----+-----+------+----+-----+--------+------+\n",
      "|          0|       0|     0|   0|  0|177|    0|    0|     0|   0|  687|       2|     0|\n",
      "+-----------+--------+------+----+---+---+-----+-----+------+----+-----+--------+------+\n",
      "\n"
     ]
    }
   ],
   "source": [
    "\n",
    "df.select([count(when(col(c).isNull(), c)).alias(c) for c in df.columns]).show()\n"
   ]
  },
  {
   "cell_type": "code",
   "execution_count": null,
   "metadata": {
    "application/vnd.databricks.v1+cell": {
     "cellMetadata": {
      "byteLimit": 2048000,
      "rowLimit": 10000
     },
     "inputWidgets": {},
     "nuid": "e41d6976-4e79-40de-84ae-9e0a604a406b",
     "showTitle": false,
     "title": ""
    }
   },
   "outputs": [],
   "source": [
    "df = df.drop('PassengerId','Name','Ticket','Cabin','Family')"
   ]
  },
  {
   "cell_type": "code",
   "execution_count": null,
   "metadata": {
    "application/vnd.databricks.v1+cell": {
     "cellMetadata": {
      "byteLimit": 2048000,
      "rowLimit": 10000
     },
     "inputWidgets": {},
     "nuid": "7eb82fd8-8350-46cc-8954-d3043a1b5970",
     "showTitle": false,
     "title": ""
    }
   },
   "outputs": [
    {
     "name": "stdout",
     "output_type": "stream",
     "text": [
      "Out[139]: ['Survived', 'Pclass', 'Sex', 'Age', 'SibSp', 'Parch', 'Fare', 'Embarked']"
     ]
    }
   ],
   "source": [
    "df.columns"
   ]
  },
  {
   "cell_type": "code",
   "execution_count": null,
   "metadata": {
    "application/vnd.databricks.v1+cell": {
     "cellMetadata": {
      "byteLimit": 2048000,
      "rowLimit": 10000
     },
     "inputWidgets": {},
     "nuid": "cf04b738-9809-47ec-99e4-ef67cb5682ed",
     "showTitle": false,
     "title": ""
    }
   },
   "outputs": [],
   "source": [
    "from pyspark.ml.feature import Imputer\n",
    "imputer = Imputer(\n",
    "    inputCols=['Age'], #specifying the input column names\n",
    "    outputCols=['Age'], #specifying the output column names\n",
    "    strategy=\"mean\"                  # or \"median\" if you want to use the median value\n",
    ")\n",
    "df = imputer.fit(df).transform(df)"
   ]
  },
  {
   "cell_type": "code",
   "execution_count": null,
   "metadata": {
    "application/vnd.databricks.v1+cell": {
     "cellMetadata": {
      "byteLimit": 2048000,
      "rowLimit": 10000
     },
     "inputWidgets": {},
     "nuid": "38b1c212-0f23-4091-8dea-7c3f11f49dc6",
     "showTitle": false,
     "title": ""
    }
   },
   "outputs": [
    {
     "name": "stdout",
     "output_type": "stream",
     "text": [
      "Out[153]: 0"
     ]
    }
   ],
   "source": [
    "df.where(df.Age.isNull()).count()"
   ]
  },
  {
   "cell_type": "code",
   "execution_count": null,
   "metadata": {
    "application/vnd.databricks.v1+cell": {
     "cellMetadata": {
      "byteLimit": 2048000,
      "rowLimit": 10000
     },
     "inputWidgets": {},
     "nuid": "32ced109-9047-4e74-b7d7-20c6d4a5082c",
     "showTitle": false,
     "title": ""
    }
   },
   "outputs": [
    {
     "name": "stdout",
     "output_type": "stream",
     "text": [
      "+--------+-----+\n",
      "|Embarked|count|\n",
      "+--------+-----+\n",
      "|       Q|   77|\n",
      "|    null|    2|\n",
      "|       C|  168|\n",
      "|       S|  644|\n",
      "+--------+-----+\n",
      "\n"
     ]
    }
   ],
   "source": [
    "df.groupBy('Embarked').count().show()\n"
   ]
  },
  {
   "cell_type": "code",
   "execution_count": null,
   "metadata": {
    "application/vnd.databricks.v1+cell": {
     "cellMetadata": {
      "byteLimit": 2048000,
      "rowLimit": 10000
     },
     "inputWidgets": {},
     "nuid": "5dc72840-4a6e-4cc1-b793-1fa4a9c72c96",
     "showTitle": false,
     "title": ""
    }
   },
   "outputs": [],
   "source": [
    "df = df.fillna(value='S', subset='Embarked')"
   ]
  },
  {
   "cell_type": "code",
   "execution_count": null,
   "metadata": {
    "application/vnd.databricks.v1+cell": {
     "cellMetadata": {
      "byteLimit": 2048000,
      "rowLimit": 10000
     },
     "inputWidgets": {},
     "nuid": "4a7c6246-9a27-4156-898f-7b3ef5979d6d",
     "showTitle": false,
     "title": ""
    }
   },
   "outputs": [
    {
     "name": "stdout",
     "output_type": "stream",
     "text": [
      "+--------+-----+\n",
      "|Embarked|count|\n",
      "+--------+-----+\n",
      "|       Q|   77|\n",
      "|       C|  168|\n",
      "|       S|  646|\n",
      "+--------+-----+\n",
      "\n"
     ]
    }
   ],
   "source": [
    "df.groupBy('Embarked').count().show()\n"
   ]
  },
  {
   "cell_type": "markdown",
   "metadata": {
    "application/vnd.databricks.v1+cell": {
     "cellMetadata": {},
     "inputWidgets": {},
     "nuid": "bd4984a1-3e55-46fe-b76c-15a74443379f",
     "showTitle": false,
     "title": ""
    }
   },
   "source": [
    "### Change datatype "
   ]
  },
  {
   "cell_type": "code",
   "execution_count": null,
   "metadata": {
    "application/vnd.databricks.v1+cell": {
     "cellMetadata": {
      "byteLimit": 2048000,
      "rowLimit": 10000
     },
     "inputWidgets": {},
     "nuid": "4efad236-3a0c-4a4f-8ac6-057e29e3b846",
     "showTitle": false,
     "title": ""
    }
   },
   "outputs": [
    {
     "name": "stdout",
     "output_type": "stream",
     "text": [
      "root\n",
      " |-- Survived: integer (nullable = true)\n",
      " |-- Pclass: integer (nullable = true)\n",
      " |-- Sex: string (nullable = true)\n",
      " |-- Age: double (nullable = true)\n",
      " |-- SibSp: integer (nullable = true)\n",
      " |-- Parch: integer (nullable = true)\n",
      " |-- Fare: double (nullable = true)\n",
      " |-- Embarked: string (nullable = false)\n",
      "\n"
     ]
    }
   ],
   "source": [
    "df.printSchema()"
   ]
  },
  {
   "cell_type": "code",
   "execution_count": null,
   "metadata": {
    "application/vnd.databricks.v1+cell": {
     "cellMetadata": {
      "byteLimit": 2048000,
      "rowLimit": 10000
     },
     "inputWidgets": {},
     "nuid": "fd522cad-f32b-49a8-a851-42012663ff19",
     "showTitle": false,
     "title": ""
    }
   },
   "outputs": [
    {
     "name": "stdout",
     "output_type": "stream",
     "text": [
      "+--------+------+------+---+-----+-----+-------+--------+\n",
      "|Survived|Pclass|   Sex|Age|SibSp|Parch|   Fare|Embarked|\n",
      "+--------+------+------+---+-----+-----+-------+--------+\n",
      "|       0|     3|  male| 22|    1|    0|   7.25|       S|\n",
      "|       1|     1|female| 38|    1|    0|71.2833|       C|\n",
      "+--------+------+------+---+-----+-----+-------+--------+\n",
      "only showing top 2 rows\n",
      "\n"
     ]
    }
   ],
   "source": [
    "from pyspark.sql.types import IntegerType\n",
    "df = df.withColumn('Age', col('Age').cast(IntegerType())) # 'int'\n",
    "df.show(2)"
   ]
  },
  {
   "cell_type": "markdown",
   "metadata": {
    "application/vnd.databricks.v1+cell": {
     "cellMetadata": {},
     "inputWidgets": {},
     "nuid": "c33f3354-84db-47ef-879d-ea038df14c00",
     "showTitle": false,
     "title": ""
    }
   },
   "source": [
    "## Model Building "
   ]
  },
  {
   "cell_type": "code",
   "execution_count": null,
   "metadata": {
    "application/vnd.databricks.v1+cell": {
     "cellMetadata": {
      "byteLimit": 2048000,
      "rowLimit": 10000
     },
     "inputWidgets": {},
     "nuid": "2cf64de8-0936-4d52-b105-823b8fcf4a44",
     "showTitle": false,
     "title": ""
    }
   },
   "outputs": [],
   "source": [
    "from pyspark.ml.feature import StringIndexer, OneHotEncoder"
   ]
  },
  {
   "cell_type": "markdown",
   "metadata": {
    "application/vnd.databricks.v1+cell": {
     "cellMetadata": {},
     "inputWidgets": {},
     "nuid": "e26e0b89-cdcc-4dca-8d32-18bb15c864dc",
     "showTitle": false,
     "title": ""
    }
   },
   "source": [
    "### Label Encoding"
   ]
  },
  {
   "cell_type": "code",
   "execution_count": null,
   "metadata": {
    "application/vnd.databricks.v1+cell": {
     "cellMetadata": {
      "byteLimit": 2048000,
      "rowLimit": 10000
     },
     "inputWidgets": {},
     "nuid": "75479c40-d107-46f2-83dd-8cc0e1912f78",
     "showTitle": false,
     "title": ""
    }
   },
   "outputs": [],
   "source": [
    "s_indexer = StringIndexer(inputCols=['Sex','Embarked'],outputCols=['Sex_index','Embarked_index'])\n",
    "df = s_indexer.fit(df).transform(df)\n",
    "df = df.drop('Sex','Embarked')"
   ]
  },
  {
   "cell_type": "code",
   "execution_count": null,
   "metadata": {
    "application/vnd.databricks.v1+cell": {
     "cellMetadata": {
      "byteLimit": 2048000,
      "rowLimit": 10000
     },
     "inputWidgets": {},
     "nuid": "8910e13e-8e76-40e1-bbe8-59296943668c",
     "showTitle": false,
     "title": ""
    }
   },
   "outputs": [
    {
     "name": "stdout",
     "output_type": "stream",
     "text": [
      "+--------+------+---+-----+-----+-------+---------+--------------+\n",
      "|Survived|Pclass|Age|SibSp|Parch|   Fare|Sex_index|Embarked_index|\n",
      "+--------+------+---+-----+-----+-------+---------+--------------+\n",
      "|       0|     3| 22|    1|    0|   7.25|      0.0|           0.0|\n",
      "|       1|     1| 38|    1|    0|71.2833|      1.0|           1.0|\n",
      "|       1|     3| 26|    0|    0|  7.925|      1.0|           0.0|\n",
      "|       1|     1| 35|    1|    0|   53.1|      1.0|           0.0|\n",
      "|       0|     3| 35|    0|    0|   8.05|      0.0|           0.0|\n",
      "|       0|     3| 29|    0|    0| 8.4583|      0.0|           2.0|\n",
      "|       0|     1| 54|    0|    0|51.8625|      0.0|           0.0|\n",
      "|       0|     3|  2|    3|    1| 21.075|      0.0|           0.0|\n",
      "|       1|     3| 27|    0|    2|11.1333|      1.0|           0.0|\n",
      "|       1|     2| 14|    1|    0|30.0708|      1.0|           1.0|\n",
      "|       1|     3|  4|    1|    1|   16.7|      1.0|           0.0|\n",
      "|       1|     1| 58|    0|    0|  26.55|      1.0|           0.0|\n",
      "|       0|     3| 20|    0|    0|   8.05|      0.0|           0.0|\n",
      "|       0|     3| 39|    1|    5| 31.275|      0.0|           0.0|\n",
      "|       0|     3| 14|    0|    0| 7.8542|      1.0|           0.0|\n",
      "|       1|     2| 55|    0|    0|   16.0|      1.0|           0.0|\n",
      "|       0|     3|  2|    4|    1| 29.125|      0.0|           2.0|\n",
      "|       1|     2| 29|    0|    0|   13.0|      0.0|           0.0|\n",
      "|       0|     3| 31|    1|    0|   18.0|      1.0|           0.0|\n",
      "|       1|     3| 29|    0|    0|  7.225|      1.0|           1.0|\n",
      "+--------+------+---+-----+-----+-------+---------+--------------+\n",
      "only showing top 20 rows\n",
      "\n"
     ]
    }
   ],
   "source": [
    "df.show()"
   ]
  },
  {
   "cell_type": "markdown",
   "metadata": {
    "application/vnd.databricks.v1+cell": {
     "cellMetadata": {},
     "inputWidgets": {},
     "nuid": "3aaec0b7-3e20-4b38-9ec2-b81b4e03788c",
     "showTitle": false,
     "title": ""
    }
   },
   "source": [
    "### OneHotEncoding"
   ]
  },
  {
   "cell_type": "code",
   "execution_count": null,
   "metadata": {
    "application/vnd.databricks.v1+cell": {
     "cellMetadata": {
      "byteLimit": 2048000,
      "rowLimit": 10000
     },
     "inputWidgets": {},
     "nuid": "3353e47b-1c75-45ee-92ec-f8e558b7f07a",
     "showTitle": false,
     "title": ""
    }
   },
   "outputs": [
    {
     "name": "stdout",
     "output_type": "stream",
     "text": [
      "Out[204]: DataFrame[Survived: int, Pclass: int, Age: int, SibSp: int, Parch: int, Fare: double, Sex_index: double, Embarked: vector]"
     ]
    }
   ],
   "source": [
    "oh_encoder = OneHotEncoder(inputCol='Embarked_index',outputCol='EmbarkedVec')\n",
    "df = oh_encoder.fit(df).transform(df)"
   ]
  },
  {
   "cell_type": "code",
   "execution_count": null,
   "metadata": {
    "application/vnd.databricks.v1+cell": {
     "cellMetadata": {
      "byteLimit": 2048000,
      "rowLimit": 10000
     },
     "inputWidgets": {},
     "nuid": "c6ad2820-3652-4f24-ba8a-9ff5cb0eac25",
     "showTitle": false,
     "title": ""
    }
   },
   "outputs": [],
   "source": [
    "df = df.drop('Embarked_index')"
   ]
  },
  {
   "cell_type": "code",
   "execution_count": null,
   "metadata": {
    "application/vnd.databricks.v1+cell": {
     "cellMetadata": {
      "byteLimit": 2048000,
      "rowLimit": 10000
     },
     "inputWidgets": {},
     "nuid": "47a45d8d-b007-452d-aabd-f7a40c391773",
     "showTitle": false,
     "title": ""
    }
   },
   "outputs": [
    {
     "name": "stdout",
     "output_type": "stream",
     "text": [
      "+--------+------+---+-----+-----+-------+---------+-------------+\n",
      "|Survived|Pclass|Age|SibSp|Parch|   Fare|Sex_index|  EmbarkedVec|\n",
      "+--------+------+---+-----+-----+-------+---------+-------------+\n",
      "|       0|     3| 22|    1|    0|   7.25|      0.0|(2,[0],[1.0])|\n",
      "|       1|     1| 38|    1|    0|71.2833|      1.0|(2,[1],[1.0])|\n",
      "|       1|     3| 26|    0|    0|  7.925|      1.0|(2,[0],[1.0])|\n",
      "|       1|     1| 35|    1|    0|   53.1|      1.0|(2,[0],[1.0])|\n",
      "|       0|     3| 35|    0|    0|   8.05|      0.0|(2,[0],[1.0])|\n",
      "|       0|     3| 29|    0|    0| 8.4583|      0.0|    (2,[],[])|\n",
      "|       0|     1| 54|    0|    0|51.8625|      0.0|(2,[0],[1.0])|\n",
      "|       0|     3|  2|    3|    1| 21.075|      0.0|(2,[0],[1.0])|\n",
      "|       1|     3| 27|    0|    2|11.1333|      1.0|(2,[0],[1.0])|\n",
      "|       1|     2| 14|    1|    0|30.0708|      1.0|(2,[1],[1.0])|\n",
      "|       1|     3|  4|    1|    1|   16.7|      1.0|(2,[0],[1.0])|\n",
      "|       1|     1| 58|    0|    0|  26.55|      1.0|(2,[0],[1.0])|\n",
      "|       0|     3| 20|    0|    0|   8.05|      0.0|(2,[0],[1.0])|\n",
      "|       0|     3| 39|    1|    5| 31.275|      0.0|(2,[0],[1.0])|\n",
      "|       0|     3| 14|    0|    0| 7.8542|      1.0|(2,[0],[1.0])|\n",
      "|       1|     2| 55|    0|    0|   16.0|      1.0|(2,[0],[1.0])|\n",
      "|       0|     3|  2|    4|    1| 29.125|      0.0|    (2,[],[])|\n",
      "|       1|     2| 29|    0|    0|   13.0|      0.0|(2,[0],[1.0])|\n",
      "|       0|     3| 31|    1|    0|   18.0|      1.0|(2,[0],[1.0])|\n",
      "|       1|     3| 29|    0|    0|  7.225|      1.0|(2,[1],[1.0])|\n",
      "+--------+------+---+-----+-----+-------+---------+-------------+\n",
      "only showing top 20 rows\n",
      "\n"
     ]
    }
   ],
   "source": [
    "df.show()"
   ]
  },
  {
   "cell_type": "markdown",
   "metadata": {
    "application/vnd.databricks.v1+cell": {
     "cellMetadata": {},
     "inputWidgets": {},
     "nuid": "50d94ab6-d529-4638-8851-9936c91370d9",
     "showTitle": false,
     "title": ""
    }
   },
   "source": [
    "### Vector creation"
   ]
  },
  {
   "cell_type": "markdown",
   "metadata": {
    "application/vnd.databricks.v1+cell": {
     "cellMetadata": {},
     "inputWidgets": {},
     "nuid": "86149986-7b81-4e32-bf80-2d8c7ee23245",
     "showTitle": false,
     "title": ""
    }
   },
   "source": [
    "Create a single vector of all independant variables"
   ]
  },
  {
   "cell_type": "code",
   "execution_count": null,
   "metadata": {
    "application/vnd.databricks.v1+cell": {
     "cellMetadata": {
      "byteLimit": 2048000,
      "rowLimit": 10000
     },
     "inputWidgets": {},
     "nuid": "fab8ae34-2b02-42b6-ba7b-a1fcb6bcee55",
     "showTitle": false,
     "title": ""
    }
   },
   "outputs": [
    {
     "name": "stdout",
     "output_type": "stream",
     "text": [
      "Out[209]: ['Survived',\n",
      " 'Pclass',\n",
      " 'Age',\n",
      " 'SibSp',\n",
      " 'Parch',\n",
      " 'Fare',\n",
      " 'Sex_index',\n",
      " 'EmbarkedVec']"
     ]
    }
   ],
   "source": [
    "df.columns"
   ]
  },
  {
   "cell_type": "code",
   "execution_count": null,
   "metadata": {
    "application/vnd.databricks.v1+cell": {
     "cellMetadata": {
      "byteLimit": 2048000,
      "rowLimit": 10000
     },
     "inputWidgets": {},
     "nuid": "12365221-f1b9-45af-b9df-8cdc71e1daa7",
     "showTitle": false,
     "title": ""
    }
   },
   "outputs": [
    {
     "name": "stdout",
     "output_type": "stream",
     "text": [
      "root\n",
      " |-- Survived: integer (nullable = true)\n",
      " |-- Pclass: integer (nullable = true)\n",
      " |-- Age: integer (nullable = true)\n",
      " |-- SibSp: integer (nullable = true)\n",
      " |-- Parch: integer (nullable = true)\n",
      " |-- Fare: double (nullable = true)\n",
      " |-- Sex_index: double (nullable = false)\n",
      " |-- EmbarkedVec: vector (nullable = true)\n",
      " |-- features: vector (nullable = true)\n",
      "\n"
     ]
    }
   ],
   "source": [
    "from pyspark.ml.feature import VectorAssembler\n",
    "df_assembler = VectorAssembler(inputCols=df.columns[1:], outputCol='features')\n",
    "df_vec = df_assembler.transform(df)\n",
    "df_vec.printSchema()"
   ]
  },
  {
   "cell_type": "code",
   "execution_count": null,
   "metadata": {
    "application/vnd.databricks.v1+cell": {
     "cellMetadata": {
      "byteLimit": 2048000,
      "rowLimit": 10000
     },
     "inputWidgets": {},
     "nuid": "23ff76a8-1e2f-4573-9726-6949fa2ab538",
     "showTitle": false,
     "title": ""
    }
   },
   "outputs": [
    {
     "name": "stdout",
     "output_type": "stream",
     "text": [
      "+--------------------+--------+\n",
      "|            features|Survived|\n",
      "+--------------------+--------+\n",
      "|[3.0,22.0,1.0,0.0...|       0|\n",
      "|[1.0,38.0,1.0,0.0...|       1|\n",
      "|[3.0,26.0,0.0,0.0...|       1|\n",
      "|[1.0,35.0,1.0,0.0...|       1|\n",
      "|(8,[0,1,4,6],[3.0...|       0|\n",
      "|(8,[0,1,4],[3.0,2...|       0|\n",
      "|(8,[0,1,4,6],[1.0...|       0|\n",
      "|[3.0,2.0,3.0,1.0,...|       0|\n",
      "|[3.0,27.0,0.0,2.0...|       1|\n",
      "|[2.0,14.0,1.0,0.0...|       1|\n",
      "|[3.0,4.0,1.0,1.0,...|       1|\n",
      "|[1.0,58.0,0.0,0.0...|       1|\n",
      "|(8,[0,1,4,6],[3.0...|       0|\n",
      "|[3.0,39.0,1.0,5.0...|       0|\n",
      "|[3.0,14.0,0.0,0.0...|       0|\n",
      "|[2.0,55.0,0.0,0.0...|       1|\n",
      "|[3.0,2.0,4.0,1.0,...|       0|\n",
      "|(8,[0,1,4,6],[2.0...|       1|\n",
      "|[3.0,31.0,1.0,0.0...|       0|\n",
      "|[3.0,29.0,0.0,0.0...|       1|\n",
      "+--------------------+--------+\n",
      "only showing top 20 rows\n",
      "\n"
     ]
    }
   ],
   "source": [
    "df_vec = df_vec.select('features','Survived')\n",
    "df_vec.show()"
   ]
  },
  {
   "cell_type": "markdown",
   "metadata": {
    "application/vnd.databricks.v1+cell": {
     "cellMetadata": {},
     "inputWidgets": {},
     "nuid": "5663c05d-0240-4487-aabb-1c497eac9a15",
     "showTitle": false,
     "title": ""
    }
   },
   "source": [
    "### Train Test split "
   ]
  },
  {
   "cell_type": "code",
   "execution_count": null,
   "metadata": {
    "application/vnd.databricks.v1+cell": {
     "cellMetadata": {
      "byteLimit": 2048000,
      "rowLimit": 10000
     },
     "inputWidgets": {},
     "nuid": "21cd0427-8257-45fc-99e3-2c987b526d8c",
     "showTitle": false,
     "title": ""
    }
   },
   "outputs": [],
   "source": [
    "train_df,test_df = df_vec.randomSplit([0.75,0.25])"
   ]
  },
  {
   "cell_type": "code",
   "execution_count": null,
   "metadata": {
    "application/vnd.databricks.v1+cell": {
     "cellMetadata": {
      "byteLimit": 2048000,
      "rowLimit": 10000
     },
     "inputWidgets": {},
     "nuid": "574454c7-b72d-46ed-b0ab-3a36313ff98d",
     "showTitle": false,
     "title": ""
    }
   },
   "outputs": [
    {
     "name": "stdout",
     "output_type": "stream",
     "text": [
      "+--------+-----+\n",
      "|survived|count|\n",
      "+--------+-----+\n",
      "|       1|  259|\n",
      "|       0|  399|\n",
      "+--------+-----+\n",
      "\n"
     ]
    }
   ],
   "source": [
    "train_df.groupby('survived').per().show()"
   ]
  },
  {
   "cell_type": "code",
   "execution_count": null,
   "metadata": {
    "application/vnd.databricks.v1+cell": {
     "cellMetadata": {
      "byteLimit": 2048000,
      "rowLimit": 10000
     },
     "inputWidgets": {},
     "nuid": "197cad3b-4344-487b-a462-05c637a7adb4",
     "showTitle": false,
     "title": ""
    }
   },
   "outputs": [
    {
     "name": "stdout",
     "output_type": "stream",
     "text": [
      "+--------+-----+\n",
      "|survived|count|\n",
      "+--------+-----+\n",
      "|       1|   83|\n",
      "|       0|  150|\n",
      "+--------+-----+\n",
      "\n"
     ]
    }
   ],
   "source": [
    "test_df.groupby('survived').count().show()\n"
   ]
  },
  {
   "cell_type": "markdown",
   "metadata": {
    "application/vnd.databricks.v1+cell": {
     "cellMetadata": {},
     "inputWidgets": {},
     "nuid": "55e532f9-a451-4b3f-9e7c-0e4cefdd1418",
     "showTitle": false,
     "title": ""
    }
   },
   "source": [
    "### Scaling"
   ]
  },
  {
   "cell_type": "markdown",
   "metadata": {
    "application/vnd.databricks.v1+cell": {
     "cellMetadata": {},
     "inputWidgets": {},
     "nuid": "c3a7df97-10c6-4800-a50d-be84ee16388b",
     "showTitle": false,
     "title": ""
    }
   },
   "source": [
    "Computing summary statistics, scale data to have unit standard deviation and/or zero mean. Can be applied on Vector column. "
   ]
  },
  {
   "cell_type": "code",
   "execution_count": null,
   "metadata": {
    "application/vnd.databricks.v1+cell": {
     "cellMetadata": {
      "byteLimit": 2048000,
      "rowLimit": 10000
     },
     "inputWidgets": {},
     "nuid": "d68bac3a-f964-435e-bfd8-778e6811e718",
     "showTitle": false,
     "title": ""
    }
   },
   "outputs": [
    {
     "name": "stdout",
     "output_type": "stream",
     "text": [
      "+--------------------+--------+\n",
      "|      scaledFeatures|Survived|\n",
      "+--------------------+--------+\n",
      "|(8,[0,1,2,4],[1.1...|       0|\n",
      "|(8,[0,1,2,4],[3.5...|       0|\n",
      "|(8,[0,1,2,4],[3.5...|       1|\n",
      "|(8,[0,1,4],[2.383...|       0|\n",
      "|(8,[0,1,4],[3.574...|       0|\n",
      "|(8,[0,1,4],[3.574...|       0|\n",
      "|(8,[0,1,4],[3.574...|       0|\n",
      "|(8,[0,1,4],[3.574...|       0|\n",
      "|(8,[0,1,4],[3.574...|       0|\n",
      "|(8,[0,1,4],[3.574...|       0|\n",
      "|(8,[0,1,4],[3.574...|       0|\n",
      "|(8,[0,1,4],[3.574...|       0|\n",
      "|(8,[0,1,4],[3.574...|       0|\n",
      "|(8,[0,1,4],[3.574...|       0|\n",
      "|(8,[0,1,4],[3.574...|       0|\n",
      "|(8,[0,1,4],[3.574...|       0|\n",
      "|(8,[0,1,4],[3.574...|       0|\n",
      "|(8,[0,1,4],[3.574...|       0|\n",
      "|(8,[0,1,4],[3.574...|       0|\n",
      "|(8,[0,1,4],[3.574...|       1|\n",
      "+--------------------+--------+\n",
      "only showing top 20 rows\n",
      "\n"
     ]
    }
   ],
   "source": [
    "from pyspark.ml.feature import StandardScaler\n",
    "\n",
    "sscaler = StandardScaler(inputCol=\"features\", outputCol=\"scaledFeatures\", withStd=True, withMean=False)\n",
    "\n",
    "scalerModel = sscaler.fit(train_df)\n",
    "\n",
    "train_df = scalerModel.transform(train_df)\n",
    "train_df = train_df.drop('features').withColumnRenamed('scaledFeatures','features')\n",
    "train_df.show()"
   ]
  },
  {
   "cell_type": "code",
   "execution_count": null,
   "metadata": {
    "application/vnd.databricks.v1+cell": {
     "cellMetadata": {
      "byteLimit": 2048000,
      "rowLimit": 10000
     },
     "inputWidgets": {},
     "nuid": "5679b9db-225c-47b4-9f13-cf1f34abfbf6",
     "showTitle": false,
     "title": ""
    }
   },
   "outputs": [
    {
     "name": "stdout",
     "output_type": "stream",
     "text": [
      "+--------------------+--------+\n",
      "|      scaledFeatures|Survived|\n",
      "+--------------------+--------+\n",
      "|(8,[0,1,2,4],[1.1...|       0|\n",
      "|(8,[0,1,2,4],[3.5...|       0|\n",
      "|(8,[0,1,2,4],[3.5...|       1|\n",
      "|(8,[0,1,4],[2.383...|       0|\n",
      "|(8,[0,1,4],[3.574...|       0|\n",
      "|(8,[0,1,4],[3.574...|       0|\n",
      "|(8,[0,1,4],[3.574...|       0|\n",
      "|(8,[0,1,4],[3.574...|       0|\n",
      "|(8,[0,1,4],[3.574...|       0|\n",
      "|(8,[0,1,4],[3.574...|       0|\n",
      "|(8,[0,1,4],[3.574...|       0|\n",
      "|(8,[0,1,4],[3.574...|       0|\n",
      "|(8,[0,1,4],[3.574...|       0|\n",
      "|(8,[0,1,4],[3.574...|       0|\n",
      "|(8,[0,1,4],[3.574...|       0|\n",
      "|(8,[0,1,4],[3.574...|       0|\n",
      "|(8,[0,1,4],[3.574...|       0|\n",
      "|(8,[0,1,4],[3.574...|       0|\n",
      "|(8,[0,1,4],[3.574...|       0|\n",
      "|(8,[0,1,4],[3.574...|       1|\n",
      "+--------------------+--------+\n",
      "only showing top 20 rows\n",
      "\n"
     ]
    }
   ],
   "source": [
    "train_df.show()"
   ]
  },
  {
   "cell_type": "code",
   "execution_count": null,
   "metadata": {
    "application/vnd.databricks.v1+cell": {
     "cellMetadata": {
      "byteLimit": 2048000,
      "rowLimit": 10000
     },
     "inputWidgets": {},
     "nuid": "960adee8-6514-4679-8ace-a77be48c1584",
     "showTitle": false,
     "title": ""
    }
   },
   "outputs": [
    {
     "name": "stdout",
     "output_type": "stream",
     "text": [
      "+--------------------+--------+\n",
      "|      scaledFeatures|Survived|\n",
      "+--------------------+--------+\n",
      "|(8,[0,1,2,4],[3.5...|       0|\n",
      "|(8,[0,1,2,4],[3.5...|       0|\n",
      "|(8,[0,1,2,4],[3.5...|       0|\n",
      "|(8,[0,1,4],[3.574...|       0|\n",
      "|(8,[0,1,4],[3.574...|       0|\n",
      "|(8,[0,1,4],[3.574...|       0|\n",
      "|(8,[0,1,4],[3.574...|       1|\n",
      "|(8,[0,1,4],[3.574...|       0|\n",
      "|(8,[0,1,4],[3.574...|       0|\n",
      "|(8,[0,1,4],[3.574...|       0|\n",
      "|(8,[0,1,4,5],[3.5...|       1|\n",
      "|(8,[0,1,4,5],[3.5...|       1|\n",
      "|(8,[0,1,4,5],[3.5...|       0|\n",
      "|(8,[0,1,4,5],[3.5...|       1|\n",
      "|(8,[0,1,4,5],[3.5...|       1|\n",
      "|(8,[0,1,4,5],[3.5...|       0|\n",
      "|(8,[0,1,4,6],[1.1...|       0|\n",
      "|(8,[0,1,4,6],[1.1...|       0|\n",
      "|(8,[0,1,4,6],[1.1...|       1|\n",
      "|(8,[0,1,4,6],[1.1...|       0|\n",
      "+--------------------+--------+\n",
      "only showing top 20 rows\n",
      "\n"
     ]
    }
   ],
   "source": [
    "test_df = scalerModel.transform(test_df)\n",
    "test_df = test_df.drop('features').withColumnRenamed('scaledFeatures','features')\n",
    "test_df.show()"
   ]
  },
  {
   "cell_type": "markdown",
   "metadata": {
    "application/vnd.databricks.v1+cell": {
     "cellMetadata": {},
     "inputWidgets": {},
     "nuid": "af09367d-df2b-458f-9d7c-d8ade71e9816",
     "showTitle": false,
     "title": ""
    }
   },
   "source": [
    "## Model "
   ]
  },
  {
   "cell_type": "markdown",
   "metadata": {
    "application/vnd.databricks.v1+cell": {
     "cellMetadata": {},
     "inputWidgets": {},
     "nuid": "77fe40e1-e2f0-49f0-a248-3f95fc38bd9a",
     "showTitle": false,
     "title": ""
    }
   },
   "source": [
    "### Training"
   ]
  },
  {
   "cell_type": "code",
   "execution_count": null,
   "metadata": {
    "application/vnd.databricks.v1+cell": {
     "cellMetadata": {
      "byteLimit": 2048000,
      "rowLimit": 10000
     },
     "inputWidgets": {},
     "nuid": "e3cdddec-1678-497d-9825-ec6a18aba06e",
     "showTitle": false,
     "title": ""
    }
   },
   "outputs": [],
   "source": [
    "from pyspark.ml.classification import LogisticRegression"
   ]
  },
  {
   "cell_type": "code",
   "execution_count": null,
   "metadata": {
    "application/vnd.databricks.v1+cell": {
     "cellMetadata": {
      "byteLimit": 2048000,
      "rowLimit": 10000
     },
     "inputWidgets": {},
     "nuid": "07a80ab5-ba17-4948-be67-407d5afb3901",
     "showTitle": false,
     "title": ""
    }
   },
   "outputs": [],
   "source": [
    "lr_model = LogisticRegression(labelCol=\"Survived\")\n",
    "lr_model = lr_model.fit(train_df)"
   ]
  },
  {
   "cell_type": "code",
   "execution_count": null,
   "metadata": {
    "application/vnd.databricks.v1+cell": {
     "cellMetadata": {
      "byteLimit": 2048000,
      "rowLimit": 10000
     },
     "inputWidgets": {},
     "nuid": "b758c643-30f5-45f8-9117-dbf61dc3a1f3",
     "showTitle": false,
     "title": ""
    }
   },
   "outputs": [
    {
     "name": "stdout",
     "output_type": "stream",
     "text": [
      "+--------------------+--------+--------------------+--------------------+----------+\n",
      "|            features|Survived|       rawPrediction|         probability|prediction|\n",
      "+--------------------+--------+--------------------+--------------------+----------+\n",
      "|(8,[0,1,2,4],[1.1...|     0.0|[0.57556710846881...|[0.64004676147655...|       0.0|\n",
      "|(8,[0,1,2,4],[3.5...|     0.0|[2.07185293333972...|[0.88813718193298...|       0.0|\n",
      "|(8,[0,1,2,4],[3.5...|     1.0|[2.32983919982898...|[0.91131834218173...|       0.0|\n",
      "|(8,[0,1,4],[2.383...|     0.0|[1.70685383440628...|[0.84642776667122...|       0.0|\n",
      "|(8,[0,1,4],[3.574...|     0.0|[1.47716648728009...|[0.81414421381632...|       0.0|\n",
      "|(8,[0,1,4],[3.574...|     0.0|[1.54247647780634...|[0.82382444387736...|       0.0|\n",
      "|(8,[0,1,4],[3.574...|     0.0|[1.67817144274552...|[0.84266224814588...|       0.0|\n",
      "|(8,[0,1,4],[3.574...|     0.0|[1.81617764792071...|[0.86010684267618...|       0.0|\n",
      "|(8,[0,1,4],[3.574...|     0.0|[1.81593999291999...|[0.86007824485153...|       0.0|\n",
      "|(8,[0,1,4],[3.574...|     0.0|[1.81393145829013...|[0.85983635558762...|       0.0|\n",
      "|(8,[0,1,4],[3.574...|     0.0|[1.81392057332827...|[0.85983504375086...|       0.0|\n",
      "|(8,[0,1,4],[3.574...|     0.0|[1.81390994753216...|[0.85983376313839...|       0.0|\n",
      "|(8,[0,1,4],[3.574...|     0.0|[1.81389906257030...|[0.85983245128132...|       0.0|\n",
      "|(8,[0,1,4],[3.574...|     0.0|[1.81386666685046...|[0.85982854688398...|       0.0|\n",
      "|(8,[0,1,4],[3.574...|     0.0|[1.81386666685046...|[0.85982854688398...|       0.0|\n",
      "|(8,[0,1,4],[3.574...|     0.0|[1.81386666685046...|[0.85982854688398...|       0.0|\n",
      "|(8,[0,1,4],[3.574...|     0.0|[1.81386666685046...|[0.85982854688398...|       0.0|\n",
      "|(8,[0,1,4],[3.574...|     0.0|[1.81386666685046...|[0.85982854688398...|       0.0|\n",
      "|(8,[0,1,4],[3.574...|     0.0|[1.81386666685046...|[0.85982854688398...|       0.0|\n",
      "|(8,[0,1,4],[3.574...|     1.0|[1.81386666685046...|[0.85982854688398...|       0.0|\n",
      "+--------------------+--------+--------------------+--------------------+----------+\n",
      "only showing top 20 rows\n",
      "\n"
     ]
    }
   ],
   "source": [
    "lr_model_summary = lr_model.summary\n",
    "lr_model_summary.predictions.show()"
   ]
  },
  {
   "cell_type": "markdown",
   "metadata": {
    "application/vnd.databricks.v1+cell": {
     "cellMetadata": {},
     "inputWidgets": {},
     "nuid": "21d51be2-697a-4c61-bbbe-27f0f0349c40",
     "showTitle": false,
     "title": ""
    }
   },
   "source": [
    "### Inferencing"
   ]
  },
  {
   "cell_type": "code",
   "execution_count": null,
   "metadata": {
    "application/vnd.databricks.v1+cell": {
     "cellMetadata": {},
     "inputWidgets": {},
     "nuid": "28b36d10-45fd-48c8-ae52-21e140edc5a4",
     "showTitle": false,
     "title": ""
    }
   },
   "outputs": [],
   "source": [
    "from pyspark.ml.evaluation import BinaryClassificationEvaluator,MulticlassClassificationEvaluator"
   ]
  },
  {
   "cell_type": "code",
   "execution_count": null,
   "metadata": {
    "application/vnd.databricks.v1+cell": {
     "cellMetadata": {
      "byteLimit": 2048000,
      "rowLimit": 10000
     },
     "inputWidgets": {},
     "nuid": "8581255a-9c74-469e-b604-fc73a4f4d164",
     "showTitle": false,
     "title": ""
    }
   },
   "outputs": [
    {
     "name": "stdout",
     "output_type": "stream",
     "text": [
      "+-------+-------------------+-------------------+\n",
      "|summary|           Survived|         prediction|\n",
      "+-------+-------------------+-------------------+\n",
      "|  count|                658|                658|\n",
      "|   mean|0.39361702127659576|0.36322188449848025|\n",
      "| stddev|0.48892325937786185|0.48129387005540825|\n",
      "|    min|                0.0|                0.0|\n",
      "|    max|                1.0|                1.0|\n",
      "+-------+-------------------+-------------------+\n",
      "\n"
     ]
    }
   ],
   "source": [
    "lr_model_summary.predictions.describe().show()"
   ]
  },
  {
   "cell_type": "code",
   "execution_count": null,
   "metadata": {
    "application/vnd.databricks.v1+cell": {
     "cellMetadata": {
      "byteLimit": 2048000,
      "rowLimit": 10000
     },
     "inputWidgets": {},
     "nuid": "7979d35c-0a7b-4186-bdd6-aff4585cff2c",
     "showTitle": false,
     "title": ""
    }
   },
   "outputs": [
    {
     "name": "stdout",
     "output_type": "stream",
     "text": [
      "+--------------------+--------+--------------------+--------------------+----------+\n",
      "|            features|Survived|       rawPrediction|         probability|prediction|\n",
      "+--------------------+--------+--------------------+--------------------+----------+\n",
      "|(8,[0,1,2,4],[3.5...|       0|[2.09193827963831...|[0.89011714947554...|       0.0|\n",
      "|(8,[0,1,2,4],[3.5...|       0|[2.07185293333972...|[0.88813718193298...|       0.0|\n",
      "|(8,[0,1,2,4],[3.5...|       0|[2.04943509521291...|[0.88589052578873...|       0.0|\n",
      "|(8,[0,1,4],[3.574...|       0|[1.81386666685046...|[0.85982854688398...|       0.0|\n",
      "|(8,[0,1,4],[3.574...|       0|[1.81386666685046...|[0.85982854688398...|       0.0|\n",
      "|(8,[0,1,4],[3.574...|       0|[1.81386666685046...|[0.85982854688398...|       0.0|\n",
      "|(8,[0,1,4],[3.574...|       1|[1.81386666685046...|[0.85982854688398...|       0.0|\n",
      "|(8,[0,1,4],[3.574...|       0|[1.91565421799764...|[0.87165303831932...|       0.0|\n",
      "|(8,[0,1,4],[3.574...|       0|[2.18708768772347...|[0.89908397351507...|       0.0|\n",
      "|(8,[0,1,4],[3.574...|       0|[3.03531728061667...|[0.95414438191203...|       0.0|\n",
      "|(8,[0,1,4,5],[3.5...|       1|[-1.2745023306899...|[0.21848750158184...|       1.0|\n",
      "|(8,[0,1,4,5],[3.5...|       1|[-1.0709272283955...|[0.25522679096612...|       1.0|\n",
      "|(8,[0,1,4,5],[3.5...|       0|[-0.8334229423854...|[0.30292179383679...|       1.0|\n",
      "|(8,[0,1,4,5],[3.5...|       1|[-0.8334229423854...|[0.30292179383679...|       1.0|\n",
      "|(8,[0,1,4,5],[3.5...|       1|[-0.8337577845457...|[0.30285109317195...|       1.0|\n",
      "|(8,[0,1,4,5],[3.5...|       0|[-0.7994937586697...|[0.31013381921495...|       1.0|\n",
      "|(8,[0,1,4,6],[1.1...|       0|[-0.0456808712666...|[0.48858176768968...|       1.0|\n",
      "|(8,[0,1,4,6],[1.1...|       0|[0.03256565718529...|[0.50814069486018...|       0.0|\n",
      "|(8,[0,1,4,6],[1.1...|       1|[0.03256565718529...|[0.50814069486018...|       0.0|\n",
      "|(8,[0,1,4,6],[1.1...|       0|[0.01960736925071...|[0.50490168527638...|       0.0|\n",
      "+--------------------+--------+--------------------+--------------------+----------+\n",
      "only showing top 20 rows\n",
      "\n"
     ]
    }
   ],
   "source": [
    "lr_preds=lr_model.transform(test_df)\n",
    "lr_preds.show()"
   ]
  },
  {
   "cell_type": "code",
   "execution_count": null,
   "metadata": {
    "application/vnd.databricks.v1+cell": {
     "cellMetadata": {
      "byteLimit": 2048000,
      "rowLimit": 10000
     },
     "inputWidgets": {},
     "nuid": "c9ae252b-5b5c-4cce-934c-dac907c8c835",
     "showTitle": false,
     "title": ""
    }
   },
   "outputs": [
    {
     "name": "stdout",
     "output_type": "stream",
     "text": [
      "0.8261847389558233\n"
     ]
    }
   ],
   "source": [
    "eval = BinaryClassificationEvaluator(rawPredictionCol = \"prediction\", labelCol = \"Survived\")\n",
    "auc = eval.evaluate(lr_preds)\n",
    "print(auc)"
   ]
  },
  {
   "cell_type": "code",
   "execution_count": null,
   "metadata": {
    "application/vnd.databricks.v1+cell": {
     "cellMetadata": {
      "byteLimit": 2048000,
      "rowLimit": 10000
     },
     "inputWidgets": {},
     "nuid": "7c1a1b38-6846-4d57-bb2d-b71f3ae19b7e",
     "showTitle": false,
     "title": ""
    }
   },
   "outputs": [
    {
     "name": "stdout",
     "output_type": "stream",
     "text": [
      "AUC-ROC: 0.8262\n",
      "Accuracy: 0.8455\n",
      "Precision: 0.8442\n",
      "Recall: 0.8455\n"
     ]
    }
   ],
   "source": [
    "# Accuracy, Precision, and Recall\n",
    "multi_evaluator = MulticlassClassificationEvaluator(labelCol=\"Survived\", predictionCol=\"prediction\")\n",
    "accuracy = multi_evaluator.evaluate(lr_preds, {multi_evaluator.metricName: \"accuracy\"})\n",
    "precision = multi_evaluator.evaluate(lr_preds, {multi_evaluator.metricName: \"weightedPrecision\"})\n",
    "recall = multi_evaluator.evaluate(lr_preds, {multi_evaluator.metricName: \"weightedRecall\"})\n",
    "\n",
    "print(f\"AUC-ROC: {auc:.4f}\")\n",
    "print(f\"Accuracy: {accuracy:.4f}\")\n",
    "print(f\"Precision: {precision:.4f}\")\n",
    "print(f\"Recall: {recall:.4f}\")"
   ]
  }
 ],
 "metadata": {
  "application/vnd.databricks.v1+notebook": {
   "dashboards": [],
   "environmentMetadata": null,
   "language": "python",
   "notebookMetadata": {
    "mostRecentlyExecutedCommandWithImplicitDF": {
     "commandId": 2197056323826375,
     "dataframes": [
      "_sqldf"
     ]
    },
    "pythonIndentUnit": 4
   },
   "notebookName": "SparkRDDs",
   "widgets": {}
  },
  "language_info": {
   "name": "python"
  }
 },
 "nbformat": 4,
 "nbformat_minor": 0
}
